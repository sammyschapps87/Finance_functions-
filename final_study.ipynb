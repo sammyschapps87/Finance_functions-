{
 "cells": [
  {
   "cell_type": "code",
   "execution_count": 1,
   "metadata": {},
   "outputs": [],
   "source": [
    "import numpy_financial as npf"
   ]
  },
  {
   "cell_type": "markdown",
   "metadata": {},
   "source": [
    "# For Final\n",
    "### 32 Questions on final\n",
    "### Cumalitave \n",
    "### one formula sheet and calc\n"
   ]
  },
  {
   "cell_type": "markdown",
   "metadata": {},
   "source": [
    "## Question 3"
   ]
  },
  {
   "cell_type": "code",
   "execution_count": 10,
   "metadata": {},
   "outputs": [
    {
     "name": "stdout",
     "output_type": "stream",
     "text": [
      "The best option is option 2 becasue you pay $218053.59 which is less than $500,000\n"
     ]
    }
   ],
   "source": [
    "## insurance policy lump sum 500k today or 1600 monthly for 30 years \n",
    "## Rate of return = 8%\n",
    "## What is the best option? \n",
    "\n",
    "rate = .08 / 12\n",
    "n = 30 * 12\n",
    "\n",
    "print(f'The best option is option 2 becasue you pay ${round(npf.pv(rate, n, -1600), 2)} which is less than $500,000')\n",
    "\n",
    "\n",
    "\n",
    "\n",
    "\n"
   ]
  },
  {
   "cell_type": "markdown",
   "metadata": {},
   "source": [
    "## Quesiotn 4\n",
    "\n",
    "$25,000 loan, monthly payment for 6 years at 7.5%. What is the monthly payment in total and what is the intrest of proncipal for first month? "
   ]
  },
  {
   "cell_type": "code",
   "execution_count": 26,
   "metadata": {},
   "outputs": [
    {
     "name": "stdout",
     "output_type": "stream",
     "text": [
      "432.25280735760214\n",
      "-15193.0\n"
     ]
    }
   ],
   "source": [
    "n = 6 * 12\n",
    "rate = .075 / 12\n",
    "pv = 25000\n",
    "\n",
    "## This is for total\n",
    "monthly_payment = print(npf.pmt(rate, n, -pv))\n",
    "\n",
    "## to split for intrest of first month\n",
    "intrest = (7.5 / 12 * 25000)\n",
    "\n",
    "print(432 - intrest)\n",
    "\n"
   ]
  },
  {
   "cell_type": "markdown",
   "metadata": {},
   "source": [
    "## Question 5\n",
    "review chapter 4 section 2 for this question \n",
    "# ----------------------------------"
   ]
  },
  {
   "cell_type": "markdown",
   "metadata": {},
   "source": [
    "## Question 6\n",
    "sales = 50000\n",
    "NI = 550\n",
    "net_fixed_assets = 3600\n",
    "input = 500\n",
    "Current Asset = 650\n",
    "\n",
    "What is the common size statement value of inventory?\n",
    "\n"
   ]
  },
  {
   "cell_type": "code",
   "execution_count": 31,
   "metadata": {},
   "outputs": [
    {
     "name": "stdout",
     "output_type": "stream",
     "text": [
      "The Common size input equals 11.76 %\n"
     ]
    }
   ],
   "source": [
    "sales = 50000\n",
    "net_fixed_assets = 3600\n",
    "ni = 550\n",
    "inpu = 500\n",
    "CA = 650\n",
    "\n",
    "number = net_fixed_assets + CA\n",
    "common_input = (inpu / number) * 100\n",
    "print(f'The Common size input equals {round(common_input, 2)} %')\n"
   ]
  },
  {
   "cell_type": "markdown",
   "metadata": {},
   "source": [
    "## Question 7\n",
    "\n",
    "Days sales inventory  read ch 3 section 2\n",
    "\n",
    "formula =  365 / (cost of goods / inventory)"
   ]
  },
  {
   "cell_type": "markdown",
   "metadata": {},
   "source": [
    "# ----------------------------------"
   ]
  },
  {
   "cell_type": "markdown",
   "metadata": {},
   "source": [
    "## Question 8 \n",
    "\n",
    "Return on equity = ? \n",
    "sales = 1000\n",
    "assets = 950\n",
    "profit margin = 9%\n",
    "debt ratio = 0.65\n",
    "what is the return on equity? \n",
    "\n",
    "\n",
    "# HARD put on formula sheet formula for ROE\n"
   ]
  },
  {
   "cell_type": "code",
   "execution_count": 39,
   "metadata": {},
   "outputs": [
    {
     "name": "stdout",
     "output_type": "stream",
     "text": [
      "0.2857142857142857\n"
     ]
    }
   ],
   "source": [
    " \n",
    "sales = 1000\n",
    "assets = 900\n",
    "profit_margin = 0.09\n",
    "debt_ratio = 0.65\n",
    "\n",
    "debt = debt_ratio * assets\n",
    "income = sales * profit_margin\n",
    "\n",
    "\n",
    "total_equity = assets - debt\n",
    "roe = (income / total_equity)\n",
    "\n",
    "print(roe)\n",
    "\n"
   ]
  },
  {
   "cell_type": "markdown",
   "metadata": {},
   "source": [
    "## Question 9\n",
    "\n",
    "Equity mutiplier\n",
    "\n",
    "ch 3 sec 2\n",
    "\n",
    "------------------------------------"
   ]
  },
  {
   "cell_type": "markdown",
   "metadata": {},
   "source": [
    "## Question 10\n",
    "days sales of AR? \n",
    "\n",
    "NI = 250000\n",
    "profit_margin = 10%\n",
    "AR = 250000\n",
    "\n",
    "\n",
    "credit sales = 0.80(NI / profit_margin)\n",
    "\n",
    "\n",
    "Day sales of AR = 365 / (credit sales / AR)\n",
    "\n",
    "\n",
    "\n",
    "# HArd look at ch 3 section 2"
   ]
  },
  {
   "cell_type": "code",
   "execution_count": 43,
   "metadata": {},
   "outputs": [
    {
     "name": "stdout",
     "output_type": "stream",
     "text": [
      "4.5625\n"
     ]
    }
   ],
   "source": [
    "NI = 250000\n",
    "profit_margin = .1\n",
    "AR = 25000\n",
    "## Credit sales = 80% of sales \n",
    "\n",
    "credit_sales = 0.80 * (NI / profit_margin)\n",
    "\n",
    "day_sales_input = 365 / (credit_sales / AR)\n",
    "\n",
    "print(day_sales_input)\n",
    "\n"
   ]
  },
  {
   "cell_type": "markdown",
   "metadata": {},
   "source": [
    "## Question 11 \n",
    "balance sheet question \n",
    "chapter 2 section 1\n",
    "# ----------------------------------"
   ]
  },
  {
   "cell_type": "markdown",
   "metadata": {},
   "source": [
    "## Question 12 \n",
    "\n",
    "What is equity? "
   ]
  },
  {
   "cell_type": "code",
   "execution_count": 44,
   "metadata": {},
   "outputs": [],
   "source": [
    "common_stock = 8000\n",
    "paid_in_surplus = 12000\n",
    "liab = 7000\n",
    "fixed_assets = 25000\n",
    "CA = 8500\n",
    "\n",
    "equity = CA + fixed_assets \n",
    "\n"
   ]
  },
  {
   "cell_type": "markdown",
   "metadata": {},
   "source": [
    "## Question 13\n",
    "EBIT = sales - costs - other_costs - depreciation\n",
    "\n",
    "\n",
    "ch2 sec 5\n",
    "\n",
    "# ------------------------------------"
   ]
  },
  {
   "cell_type": "markdown",
   "metadata": {},
   "source": [
    "## Question 15\n",
    "\n",
    "net_captial_spending = NFA2 - ( NFA1 - depreciation)\n",
    "\n",
    "ch2 sec4\n",
    "\n",
    "# ------------------------------------"
   ]
  },
  {
   "cell_type": "markdown",
   "metadata": {},
   "source": [
    "## Question 16\n",
    "\n",
    "ch2 sec4\n",
    "\n",
    "cash flow to creditors = debt payment + intrest - new debt issued\n",
    "\n",
    "# ------------------------------\n"
   ]
  },
  {
   "cell_type": "markdown",
   "metadata": {},
   "source": [
    "## Question 19\n",
    "What is NPV"
   ]
  },
  {
   "cell_type": "code",
   "execution_count": 45,
   "metadata": {},
   "outputs": [
    {
     "data": {
      "text/plain": [
       "45620.43231692283"
      ]
     },
     "execution_count": 45,
     "metadata": {},
     "output_type": "execute_result"
    }
   ],
   "source": [
    "rate_of_return = .15\n",
    "investment = 50000\n",
    "cash_inflow1 = 19000\n",
    "cash_inflow2 = 15000\n",
    "cash_inflow3 = 10999\n",
    "cash_inflow4 = 8000\n",
    "\n",
    "npf.npv(rate_of_return, [cash_inflow1, cash_inflow2, cash_inflow3, cash_inflow4])\n",
    "\n"
   ]
  },
  {
   "cell_type": "markdown",
   "metadata": {},
   "source": [
    "## Question 20\n",
    "ch 9 sec 1\n",
    "\n",
    "given ror % and cfs devise NPV and IRR\n",
    "\n",
    "# -----------------------------"
   ]
  },
  {
   "cell_type": "markdown",
   "metadata": {},
   "source": [
    "## Question 21\n",
    "\n",
    "discount payable period\n",
    "\n",
    "ch9 sec 3\n",
    "\n",
    "# ------------------------------"
   ]
  },
  {
   "cell_type": "markdown",
   "metadata": {},
   "source": [
    "## Question 22\n",
    "ch 9 sec 4\n",
    "\n",
    "avg_accounting \n",
    "ror -- based on various data and discount rate\n",
    "\n"
   ]
  },
  {
   "cell_type": "markdown",
   "metadata": {},
   "source": [
    "## Question 23\n",
    "IRR \n",
    "##### Project I and II \n",
    "##### Project I ... investment and cfs year 1 to 4\n",
    "##### Project II \n",
    "\n",
    "# ------------------------------"
   ]
  },
  {
   "cell_type": "markdown",
   "metadata": {},
   "source": [
    "## Question 24\n",
    "ch 10 sec 2\n",
    "what is NPV? "
   ]
  },
  {
   "cell_type": "code",
   "execution_count": null,
   "metadata": {},
   "outputs": [],
   "source": []
  },
  {
   "cell_type": "markdown",
   "metadata": {},
   "source": [
    "## Question 25\n",
    "Project for expansion \n",
    "IO = 4 mil\n",
    "dep = stright line 8 years\n",
    "IO = 300 k \n",
    "annual_sales = 3 mil\n",
    "annual_cost = 2.5 mil\n",
    "t = 21 % \n",
    "ref_ror = 20 % \n",
    "\n",
    "What is NPV?\n",
    "\n"
   ]
  },
  {
   "cell_type": "code",
   "execution_count": null,
   "metadata": {},
   "outputs": [],
   "source": [
    "IO = 4000000\n",
    "dep = 8\n",
    "annual_sales = 3000000\n",
    "annual_cost = 2500000\n",
    "tax_rate = .21\n",
    "ref_ror = .2"
   ]
  },
  {
   "cell_type": "code",
   "execution_count": 47,
   "metadata": {},
   "outputs": [
    {
     "name": "stdout",
     "output_type": "stream",
     "text": [
      "-2501817.137107995\n"
     ]
    }
   ],
   "source": [
    "## Code from Homework just wrong numbers for problem \n",
    "costs = 2500000\n",
    "res_val = 0 \n",
    "n = 8\n",
    "pre_tax_op_cost = 74000\n",
    "tr = .21\n",
    "dr = .2\n",
    "salvage_val = 35000\n",
    "\n",
    "## Tachron I\n",
    "dep = (costs - res_val) / n\n",
    "\n",
    "ocf = -pre_tax_op_cost * (1 - tr) + (tr * dep)\n",
    "\n",
    "inflow = salvage_val * (1 - tr)\n",
    "\n",
    "pv_of_inflow = inflow / (1 + dr)**3\n",
    "\n",
    "pv_of_inflow\n",
    "\n",
    "s = (1/1.1+1/1.1**2+1/1.1**3)\n",
    "\n",
    "pv_of_outflow = costs + (abs(ocf)) * s\n",
    "\n",
    "pv_of_outflow\n",
    "\n",
    "npv = pv_of_inflow - pv_of_outflow\n",
    "\n",
    "print(npv)"
   ]
  },
  {
   "cell_type": "markdown",
   "metadata": {},
   "source": [
    "## Question 27\n",
    "Break even Point \n",
    "ch 11 sec 3\n",
    "Below is code from homework without numbers"
   ]
  },
  {
   "cell_type": "code",
   "execution_count": null,
   "metadata": {},
   "outputs": [],
   "source": [
    "dep = cost / n\n",
    "con_margin_per_uni = varible_cost_per_unit - price_per_unit\n",
    "acc_break_point = (fixed_costs + dep) / con_margin_per_uni"
   ]
  },
  {
   "cell_type": "markdown",
   "metadata": {},
   "source": [
    "## Question 28\n",
    "issue of common stock \n",
    "\n",
    "ch 13 sec 01\n",
    "\n",
    "Calc STD"
   ]
  },
  {
   "cell_type": "markdown",
   "metadata": {},
   "source": [
    "## Question 29\n",
    "Portfolio ROR ch 13 sec 01"
   ]
  },
  {
   "cell_type": "markdown",
   "metadata": {},
   "source": [
    "## Question 31\n",
    "\n",
    "CADM deviation \n",
    "ch 14 sec 01"
   ]
  },
  {
   "cell_type": "markdown",
   "metadata": {},
   "source": [
    "## Question 32 \n",
    "ch 14 sec 3\n",
    "find WACC\n",
    "Code below from homework \n"
   ]
  },
  {
   "cell_type": "code",
   "execution_count": 48,
   "metadata": {},
   "outputs": [
    {
     "data": {
      "text/plain": [
       "9.104999999999999"
      ]
     },
     "execution_count": 48,
     "metadata": {},
     "output_type": "execute_result"
    }
   ],
   "source": [
    "common_stock = .70\n",
    "preferred_stock = 0.05\n",
    "debt = .25\n",
    "equity = .11\n",
    "pretax_cost = 0.06\n",
    "tr = .23\n",
    "\n",
    "after_tax_debt = (pretax_cost * (1 - tr)) *100\n",
    "WACC = (11 * common_stock) + (after_tax_debt * debt) + (5 * preferred_stock)\n",
    "WACC"
   ]
  },
  {
   "cell_type": "markdown",
   "metadata": {},
   "source": [
    "## Question 33 \n",
    "ch 14 sec 3\n",
    "what is RR \n"
   ]
  },
  {
   "cell_type": "code",
   "execution_count": null,
   "metadata": {},
   "outputs": [],
   "source": [
    "de = .75\n",
    "WACC = .15\n",
    "t = .21\n",
    "\n"
   ]
  }
 ],
 "metadata": {
  "interpreter": {
   "hash": "b3ba2566441a7c06988d0923437866b63cedc61552a5af99d1f4fb67d367b25f"
  },
  "kernelspec": {
   "display_name": "Python 3.8.8 ('base')",
   "language": "python",
   "name": "python3"
  },
  "language_info": {
   "codemirror_mode": {
    "name": "ipython",
    "version": 3
   },
   "file_extension": ".py",
   "mimetype": "text/x-python",
   "name": "python",
   "nbconvert_exporter": "python",
   "pygments_lexer": "ipython3",
   "version": "3.8.8"
  },
  "orig_nbformat": 4
 },
 "nbformat": 4,
 "nbformat_minor": 2
}
