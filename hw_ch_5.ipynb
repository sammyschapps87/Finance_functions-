{
 "cells": [
  {
   "cell_type": "code",
   "execution_count": 1,
   "metadata": {},
   "outputs": [],
   "source": [
    "import numpy as np\n",
    "import numpy_financial as npf"
   ]
  },
  {
   "cell_type": "markdown",
   "metadata": {},
   "source": [
    "## Question 1\n",
    "\n",
    "First City Bank pays 7.5 percent simple interest on its savings account balances, whereas Second City Bank pays 7.5 percent interest compounded annually. If you made a deposit of $8,600 in each bank, how much more money would you earn from your Second City Bank account at the end of eight years?"
   ]
  },
  {
   "cell_type": "code",
   "execution_count": 2,
   "metadata": {},
   "outputs": [
    {
     "name": "stdout",
     "output_type": "stream",
     "text": [
      "1577.9092998304095\n"
     ]
    }
   ],
   "source": [
    "## Bank 1\n",
    "r = .075\n",
    "n = 8\n",
    "p = 8600\n",
    "\n",
    "fv1 = p*(1+r*n)\n",
    "fv2 = p*(1+r)**n\n",
    "\n",
    "## Bank 2\n",
    "\n",
    "\n",
    "difference = fv2 - fv1\n",
    "print(difference)"
   ]
  },
  {
   "cell_type": "markdown",
   "metadata": {},
   "source": [
    "## Question 2\n",
    "For each of the following, compute the future value:\n",
    "\n",
    "Present Value\tYears\tInterest Rate\tFuture Value\n",
    "$2,597\t11\t      13\t%\t\n",
    "7,834\t7\t       9\t%\t\n",
    "81,286\t14\t       12\t%\t\n",
    "213,612\t16\t       6\t%\t\n",
    "\n"
   ]
  },
  {
   "cell_type": "code",
   "execution_count": 3,
   "metadata": {},
   "outputs": [
    {
     "name": "stdout",
     "output_type": "stream",
     "text": [
      "9961.73\n",
      "14320.86\n",
      "397253.81\n",
      "542649.6\n"
     ]
    }
   ],
   "source": [
    "# fv = pv(1+r)^i\n",
    "\n",
    "fv = 2597*(1+0.13)**11\n",
    "print(round(fv, 2))\n",
    "fv1 = 7834*(1+0.09)**7\n",
    "print(round(fv1, 2))\n",
    "fv2 = 81286*(1+ 0.12)**14\n",
    "print(round(fv2, 2))\n",
    "fv3 = 213612*(1+ 0.06)**16\n",
    "print(round(fv3, 2))"
   ]
  },
  {
   "cell_type": "markdown",
   "metadata": {},
   "source": [
    "## Question 3\n",
    "For each of the following, compute the present value: (Do not round intermediate calculations and round your answers to 2 decimal places, e.g., 32.16.)\n",
    "\n",
    "Present Value\tYears\tInterest Rate\tFuture Value\n",
    "17\t9\t%\t$16,832\n",
    "9\t7\t%\t48,318\n",
    "23\t13\t%\t886,073\n",
    "35\t21\t%\t550,164\n"
   ]
  },
  {
   "cell_type": "code",
   "execution_count": 4,
   "metadata": {},
   "outputs": [
    {
     "name": "stdout",
     "output_type": "stream",
     "text": [
      "3889.42\n",
      "26281.79\n",
      "53292.4\n",
      "696.63\n"
     ]
    }
   ],
   "source": [
    "## pv = C/(1+i)^n\n",
    "\n",
    "pv = 16832 / (1 + 0.09)**17\n",
    "print(round(pv, 2))\n",
    "pv1 = 48318 / (1 + 0.07)**9\n",
    "print(round(pv1, 2))\n",
    "pv2 = 886073 / (1 + 0.13)** 23\n",
    "print(round(pv2, 2))\n",
    "pv3 = 550164 / (1 + .21)**35\n",
    "print(round(pv3, 2))\n"
   ]
  },
  {
   "cell_type": "markdown",
   "metadata": {},
   "source": [
    "## Question 4\n",
    "\n",
    "Solve for the unknown number of years in each of the following: (Do not round intermediate calculations and round your answers to 2 decimal places, e.g., 32.16.)\n",
    "\n",
    "Present Value\tYears\tInterest Rate\tFuture Value\n",
    "$610\t12.16selected answer correct\t7\t%\t$1,389\n",
    "940\t8.59selected answer correct\t8\t%\t1,821\n",
    "26,350\t27.82selected answer correct\t9\t%\t289,715\n",
    "43,500\t21.96selected answer correct\t11\t%\t430,258\n"
   ]
  },
  {
   "cell_type": "code",
   "execution_count": 5,
   "metadata": {},
   "outputs": [
    {
     "name": "stdout",
     "output_type": "stream",
     "text": [
      "12.16\n",
      "8.59\n",
      "27.82\n",
      "21.96\n"
     ]
    }
   ],
   "source": [
    "## n = log(fv/pv) / log(1 + r)\n",
    "\n",
    "n = np.log(1389/610)/ np.log(1.07)\n",
    "print(round(n, 2))\n",
    "\n",
    "n2 = np.log(1821/940)/ np.log(1.08)\n",
    "print(round(n2, 2))\n",
    "\n",
    "n3 = np.log(289715/26350)/ np.log(1.09)\n",
    "print(round(n3, 2))\n",
    "\n",
    "n4 = np.log(430258/43500)/ np.log(1.11)\n",
    "print(round(n4, 2))\n",
    "\n"
   ]
  },
  {
   "cell_type": "code",
   "execution_count": 5,
   "metadata": {},
   "outputs": [
    {
     "data": {
      "text/plain": [
       "-2.86"
      ]
     },
     "execution_count": 5,
     "metadata": {},
     "output_type": "execute_result"
    }
   ],
   "source": [
    "n = np.log(1000/1150) / np.log(1.05)\n",
    "round(n, 2)"
   ]
  },
  {
   "cell_type": "markdown",
   "metadata": {},
   "source": [
    "## Question 5\n",
    "\n",
    "Assume the total cost of a college education will be $325,000 when your child enters college in 18 years. You presently have $85,000 to invest. What annual rate of interest must you earn on your investment to cover the cost of your child’s college education? (Do not round intermediate calculations and enter your answer as a percent rounded to 2 decimal places, e.g., 32.16.)"
   ]
  },
  {
   "cell_type": "code",
   "execution_count": 6,
   "metadata": {},
   "outputs": [
    {
     "data": {
      "text/plain": [
       "7.74"
      ]
     },
     "execution_count": 6,
     "metadata": {},
     "output_type": "execute_result"
    }
   ],
   "source": [
    "round(npf.rate(18, 0, -85000, 325000)*100, 2)"
   ]
  },
  {
   "cell_type": "markdown",
   "metadata": {},
   "source": [
    "## Question 6\n",
    "You have just received notification that you have won the $2 million first prize in the Centennial Lottery. However, the prize will be awarded on your 100th birthday (assuming you’re around to collect), 80 years from now. What is the present value of your windfall if the appropriate discount rate is 9.1 percent? (Do not round intermediate calculations and round your answer to 2 decimal places, e.g., 32.16.)"
   ]
  },
  {
   "cell_type": "code",
   "execution_count": 7,
   "metadata": {},
   "outputs": [
    {
     "name": "stdout",
     "output_type": "stream",
     "text": [
      "1883.87\n"
     ]
    }
   ],
   "source": [
    "## pv = fv/ (1+r)^n\n",
    "\n",
    "pv = 2000000 / (1 + .091)**80\n",
    "\n",
    "print(round(pv, 2))"
   ]
  },
  {
   "cell_type": "markdown",
   "metadata": {},
   "source": [
    "## Question 7\n",
    "Your coin collection contains fifty 1952 silver dollars. If your grandparents purchased them for their face value when they were new, how much will your collection be worth when you retire in 2067, assuming they appreciate at an annual rate of 4.3 percent? (Do not round intermediate calculations and round your answer to 2 decimal places, e.g., 32.16.)"
   ]
  },
  {
   "cell_type": "code",
   "execution_count": 8,
   "metadata": {},
   "outputs": [
    {
     "name": "stdout",
     "output_type": "stream",
     "text": [
      "6333.82\n"
     ]
    }
   ],
   "source": [
    "## fv = pv * (1 + r)**n\n",
    "\n",
    "fv = 50 * (1.043)**115\n",
    "\n",
    "print(round(fv, 2))"
   ]
  },
  {
   "cell_type": "markdown",
   "metadata": {},
   "source": [
    "## Question 8\n",
    "\n",
    "Refer back to the Series EE savings bonds we discussed at the very beginning of the chapter.\n",
    " \n",
    "\n",
    "a.\tAssuming you purchased a $50 face value bond, what is the exact rate of return you would earn if you held the bond for 20 years until it doubled in value? (Do not round intermediate calculations and enter your answer as a percent rounded to 2 decimal places, e.g., 32.16.) \n",
    "b.\tIf you purchased a $50 face value bond in 2019 at the then current interest rate of .10 percent per year, how much would the bond be worth in 2029? (Do not round intermediate calculations and round your answer to 2 decimal places, e.g., 32.16.)\n",
    "c.\tIn 2029, instead of cashing the bond in for its then current value, you decide to hold the bond until it doubles in face value in 2039. What rate of return will you earn over the last 10 years? (Do not round intermediate calculations and enter your answer as a percent rounded to 2 decimal places, e.g., 32.16.)  \n",
    " "
   ]
  },
  {
   "cell_type": "markdown",
   "metadata": {},
   "source": [
    "## A\n"
   ]
  },
  {
   "cell_type": "code",
   "execution_count": 9,
   "metadata": {},
   "outputs": [
    {
     "name": "stdout",
     "output_type": "stream",
     "text": [
      "0.03526492384137758\n"
     ]
    }
   ],
   "source": [
    "\n",
    "## r = sqrt_n(fv/pv) - 1\n",
    "fv = 100\n",
    "pv = 50\n",
    "n = 20\n",
    "\n",
    "x = fv / pv\n",
    "\n",
    "r = x**(1/n) - 1\n",
    "\n",
    "print(r)\n"
   ]
  },
  {
   "cell_type": "markdown",
   "metadata": {},
   "source": [
    "## B"
   ]
  },
  {
   "cell_type": "code",
   "execution_count": 13,
   "metadata": {},
   "outputs": [
    {
     "name": "stdout",
     "output_type": "stream",
     "text": [
      "129.6871230050001\n"
     ]
    }
   ],
   "source": [
    "## fv = pv * (1 + r)**n\n",
    "\n",
    "pv = 50 \n",
    "r = 0.10\n",
    "n  = 10 \n",
    "\n",
    "fv = pv * (1 + r)**n\n",
    "print(fv)\n",
    "pv_for_c = (fv * 2)\n"
   ]
  },
  {
   "cell_type": "markdown",
   "metadata": {},
   "source": [
    "## C"
   ]
  },
  {
   "cell_type": "code",
   "execution_count": 21,
   "metadata": {},
   "outputs": [
    {
     "name": "stdout",
     "output_type": "stream",
     "text": [
      "0.07177346253629313\n"
     ]
    }
   ],
   "source": [
    "## r = sqrt_n(fv/pv) - 1\n",
    "\n",
    "pv = 129.6871230050001 \n",
    "fv = pv_for_c\n",
    "x = fv / pv\n",
    "\n",
    "r = x**(1/n) - 1\n",
    "print(r)\n"
   ]
  },
  {
   "cell_type": "code",
   "execution_count": null,
   "metadata": {},
   "outputs": [],
   "source": []
  }
 ],
 "metadata": {
  "interpreter": {
   "hash": "b3ba2566441a7c06988d0923437866b63cedc61552a5af99d1f4fb67d367b25f"
  },
  "kernelspec": {
   "display_name": "Python 3.8.8 ('base')",
   "language": "python",
   "name": "python3"
  },
  "language_info": {
   "codemirror_mode": {
    "name": "ipython",
    "version": 3
   },
   "file_extension": ".py",
   "mimetype": "text/x-python",
   "name": "python",
   "nbconvert_exporter": "python",
   "pygments_lexer": "ipython3",
   "version": "3.8.8"
  },
  "orig_nbformat": 4
 },
 "nbformat": 4,
 "nbformat_minor": 2
}
