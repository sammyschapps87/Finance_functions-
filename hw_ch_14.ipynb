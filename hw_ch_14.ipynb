{
 "cells": [
  {
   "cell_type": "code",
   "execution_count": 30,
   "metadata": {},
   "outputs": [],
   "source": [
    "import numpy_financial as npf"
   ]
  },
  {
   "cell_type": "code",
   "execution_count": 4,
   "metadata": {},
   "outputs": [
    {
     "name": "stdout",
     "output_type": "stream",
     "text": [
      "The cost of Equity is equal to 9.91%\n"
     ]
    }
   ],
   "source": [
    "div = 2.9\n",
    "gr = 0.045\n",
    "stock = 56\n",
    "\n",
    "cost_of_equity = div * (1 + gr) / stock + gr\n",
    "\n",
    "print(f'The cost of Equity is equal to {round(cost_of_equity * 100, 2)}%')"
   ]
  },
  {
   "cell_type": "code",
   "execution_count": 25,
   "metadata": {},
   "outputs": [
    {
     "name": "stdout",
     "output_type": "stream",
     "text": [
      "0.0427\n",
      "The cost of Equity for Arithmetic average is equal to 10.89\n",
      "The cost of Equity for the Geometric Average equals 10.88\n"
     ]
    }
   ],
   "source": [
    "y1 = 2.31\n",
    "y2 = 2.39\n",
    "y3 = 2.48\n",
    "y4 = 2.58\n",
    "y5 = 2.73\n",
    "n = 4\n",
    "\n",
    "arithmetic_gr = .1708\n",
    "avg_arithmetic_gr = arithmetic_gr / 4\n",
    "stock = 43\n",
    "print(avg_arithmetic_gr)\n",
    "cost_of_equity = ((y5 * (1 + avg_arithmetic_gr)) / stock) + avg_arithmetic_gr\n",
    "\n",
    "print(f'The cost of Equity for Arithmetic average is equal to {round(cost_of_equity * 100, 2)}')\n",
    "\n",
    "\n",
    "geometric_gr = ((y5/y1) ** (1/n)) - 1\n",
    "\n",
    "cost_of_equity_geo = ((y5 * (1 + geometric_gr)) / stock) + geometric_gr\n",
    "\n",
    "print(f'The cost of Equity for the Geometric Average equals {round(cost_of_equity_geo * 100, 2)}')\n"
   ]
  },
  {
   "cell_type": "markdown",
   "metadata": {},
   "source": [
    "## Question 3\n",
    "\n",
    "Sunrise, Incorporated, is trying to determine its cost of debt. The firm has a debt issue outstanding with 23 years to maturity that is quoted at 96 percent of face value. The issue makes semiannual payments and has an embedded cost of 5 percent annually. \n",
    "a.\t\n",
    "What is the company’s pretax cost of debt? (Do not round intermediate calculations and enter your answer as a percent rounded to 2 decimal places, e.g., 32.16.)\n",
    "\n",
    "b.\tIf the tax rate is 21 percent, what is the aftertax cost of debt? (Do not round intermediate calculations and enter your answer as a percent rounded to 2 decimal places, e.g., 32.16.)"
   ]
  },
  {
   "cell_type": "code",
   "execution_count": 44,
   "metadata": {},
   "outputs": [
    {
     "name": "stdout",
     "output_type": "stream",
     "text": [
      "The pre tax cost of debt is equal to 5.3%\n",
      "The After Tax cost of Debt is equal to 4.19%\n"
     ]
    }
   ],
   "source": [
    "n = 23 * 2\n",
    "quote = .96\n",
    "embedded_cost = 0.05\n",
    "\n",
    "semi_coupon = 1000 * (embedded_cost / 2)\n",
    "current_price = 1000 * quote\n",
    "\n",
    "annual_rate = npf.rate(n, semi_coupon, -current_price, 1000)\n",
    "semi_rate = annual_rate * 2\n",
    "print(f'The pre tax cost of debt is equal to {round(semi_rate * 100, 2)}%')\n",
    "\n",
    "after_tax_cost_of_debt = semi_rate * (1 - 0.21)\n",
    "\n",
    "print(f'The After Tax cost of Debt is equal to {round(after_tax_cost_of_debt *100, 2)}%')"
   ]
  },
  {
   "cell_type": "markdown",
   "metadata": {},
   "source": [
    "## Question 4\n",
    "\n",
    "Tencent Corporation has a target capital structure of 70 percent common stock, 5 percent preferred stock, and 25 percent debt. Its cost of equity is 11 percent, the cost of preferred stock is 5 percent, and the pretax cost of debt is 6 percent. The relevant tax rate is 23 percent. \n",
    "a.\tWhat is the company's WACC? (Do not round intermediate calculations and enter your answer as a percent rounded to 2 decimal places, e.g., 32.16.)\n",
    "b.\tWhat is the aftertax cost of debt? (Do not round intermediate calculations and enter your answer as a percent rounded to 2 decimal places, e.g., 32.16.)"
   ]
  },
  {
   "cell_type": "code",
   "execution_count": 50,
   "metadata": {},
   "outputs": [
    {
     "name": "stdout",
     "output_type": "stream",
     "text": [
      "4.62\n"
     ]
    },
    {
     "data": {
      "text/plain": [
       "9.104999999999999"
      ]
     },
     "execution_count": 50,
     "metadata": {},
     "output_type": "execute_result"
    }
   ],
   "source": [
    "common_stock = .70\n",
    "preferred_stock = 0.05\n",
    "debt = .25\n",
    "equity = .11\n",
    "pretax_cost = 0.06\n",
    "tr = .23\n",
    "\n",
    "after_tax_debt = (pretax_cost * (1 - tr)) *100\n",
    "WACC = (11 * common_stock) + (after_tax_debt * debt) + (5 * preferred_stock)\n",
    "WACC"
   ]
  },
  {
   "cell_type": "markdown",
   "metadata": {},
   "source": [
    "## Question 5\n",
    "Dani Corporation has 5.5 million shares of common stock outstanding. The current share price is $83, and the book value per share is $5. The company also has two bond issues outstanding. The first bond issue has a face value of $80 million, a coupon rate of 5.5 percent, and sells for 109 percent of par. The second issue has a face value of $45 million, a coupon rate of 5.8 percent, and sells for 108 percent of par. The first issue matures in 21 years, the second in 6 years. Both bonds make semiannual coupon payments. \n",
    "a.\t\n",
    "What are the company's capital structure weights on a book value basis? (Do not round intermediate calculations and round your answers to 4 decimal places, e.g., .3216.)\n",
    "\n",
    "b.\tWhat are the company's capital structure weights on a market value basis? (Do not round intermediate calculations and round your answers to 4 decimal places, e.g., .3216.)  "
   ]
  },
  {
   "cell_type": "code",
   "execution_count": null,
   "metadata": {},
   "outputs": [],
   "source": []
  }
 ],
 "metadata": {
  "interpreter": {
   "hash": "b3ba2566441a7c06988d0923437866b63cedc61552a5af99d1f4fb67d367b25f"
  },
  "kernelspec": {
   "display_name": "Python 3.8.8 ('base')",
   "language": "python",
   "name": "python3"
  },
  "language_info": {
   "codemirror_mode": {
    "name": "ipython",
    "version": 3
   },
   "file_extension": ".py",
   "mimetype": "text/x-python",
   "name": "python",
   "nbconvert_exporter": "python",
   "pygments_lexer": "ipython3",
   "version": "3.8.8"
  },
  "orig_nbformat": 4
 },
 "nbformat": 4,
 "nbformat_minor": 2
}
