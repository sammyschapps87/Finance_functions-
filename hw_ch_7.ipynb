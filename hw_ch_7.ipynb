{
 "cells": [
  {
   "cell_type": "code",
   "execution_count": 2,
   "metadata": {},
   "outputs": [],
   "source": [
    "import numpy as np\n",
    "import numpy_financial as npf\n",
    "import pandas as pd\n"
   ]
  },
  {
   "cell_type": "markdown",
   "metadata": {},
   "source": [
    "## Question 2\n",
    "\n",
    "Even though most corporate bonds in the United States make coupon payments semiannually, bonds issued elsewhere often have annual coupon payments. Suppose a German company issues a bond with a par value of €1,000, 27 years to maturity, and a coupon rate of 3.6 percent paid annually.\n",
    " \n",
    "If the yield to maturity is 3.2 percent, what is the current price of the bond?"
   ]
  },
  {
   "cell_type": "code",
   "execution_count": 18,
   "metadata": {},
   "outputs": [
    {
     "name": "stdout",
     "output_type": "stream",
     "text": [
      "36.0\n",
      "0.572783347106236\n"
     ]
    },
    {
     "data": {
      "text/plain": [
       "1071.5979183882794"
      ]
     },
     "execution_count": 18,
     "metadata": {},
     "output_type": "execute_result"
    }
   ],
   "source": [
    "## Working formula for Price of a bond \n",
    "face_value = 1000\n",
    "n = 27\n",
    "r = 0.036\n",
    "y = 0.032\n",
    "pmt = face_value * r\n",
    "print(pmt)\n",
    "\n",
    "top_left = (1 - (1/((1+y)**n)))\n",
    "bottom_right = (1 + y)**n\n",
    "\n",
    "print(top_left)\n",
    "bond_price = pmt * (top_left/y) + (face_value/bottom_right)\n",
    "bond_price\n"
   ]
  },
  {
   "cell_type": "markdown",
   "metadata": {},
   "source": [
    "## Question 3\n",
    "Nikita Enterprises has bonds on the market making annual payments, with eight years to maturity, a par value of $1,000, and selling for $962. At this price, the bonds yield 5.1 percent.\n",
    " \n",
    "What must the coupon rate be on the bonds? (Do not round intermediate calculations and enter your answer as a percent rounded to 2 decimal places, e.g., 32.16.)"
   ]
  },
  {
   "cell_type": "code",
   "execution_count": 26,
   "metadata": {},
   "outputs": [
    {
     "data": {
      "text/plain": [
       "0.0451"
      ]
     },
     "execution_count": 26,
     "metadata": {},
     "output_type": "execute_result"
    }
   ],
   "source": [
    "n = 8\n",
    "face_value = 1000\n",
    "sale = 962\n",
    "y = 0.051\n",
    "coupon_rate = 45.10 /face_value\n",
    "coupon_rate"
   ]
  },
  {
   "cell_type": "markdown",
   "metadata": {},
   "source": [
    "## Question 4\n",
    "\n",
    "Westco Company issued 15-year bonds a year ago at a coupon rate of 5.4 percent. The bonds make semiannual payments and have a par value of $1,000. If the YTM on these bonds is 4.5 percent, what is the current price of the bond in dollars?"
   ]
  },
  {
   "cell_type": "code",
   "execution_count": 34,
   "metadata": {},
   "outputs": [
    {
     "data": {
      "text/plain": [
       "-1092.7352243761973"
      ]
     },
     "execution_count": 34,
     "metadata": {},
     "output_type": "execute_result"
    }
   ],
   "source": [
    "# n = 15\n",
    "# cr = 0.54\n",
    "# face_value = 1000\n",
    "# y = 0.045\n",
    "face_value = 1000\n",
    "n = (15 * 2) - 2\n",
    "r = 0.054\n",
    "y = 0.045\n",
    "\n",
    "pmt = face_value * r * 0.5\n",
    "rate = y/2\n",
    "\n",
    "npf.pv(rate, n, pmt, face_value)\n"
   ]
  },
  {
   "cell_type": "markdown",
   "metadata": {},
   "source": [
    "## Question 5\n",
    "You find a zero coupon bond with a par value of $10,000 and 24 years to maturity. If the yield to maturity on this bond is 4.2 percent, what is the price of the bond? Assume semiannual compounding periods."
   ]
  },
  {
   "cell_type": "code",
   "execution_count": 43,
   "metadata": {},
   "outputs": [
    {
     "name": "stdout",
     "output_type": "stream",
     "text": [
      "3687.774694195803\n",
      "3687.77\n"
     ]
    }
   ],
   "source": [
    "face_value = 10000\n",
    "n = 24 * 2\n",
    "y = 0.042 / 2\n",
    "\n",
    "\n",
    "pv = face_value / ((1 + y)**n)\n",
    "\n",
    "print(npf.pv(y, n, 0, -face_value))\n",
    "\n",
    "print(round(pv, 2))\n",
    "\n",
    "\n"
   ]
  },
  {
   "cell_type": "markdown",
   "metadata": {},
   "source": [
    "## Question 6\n",
    "Treasury bills are currently paying 4.6 percent and the inflation rate is 1.9 percent. \n",
    "a.\tWhat is the approximate real rate of interest? (Enter your answer as a percent rounded to 2 decimal places, e.g., 32.16.)\n",
    "b.\t\n",
    "What is the exact real rate? (Do not round intermediate calculations and enter your answer as a percent rounded to 2 decimal places, e.g., 32.16.)\n",
    "\n",
    " "
   ]
  },
  {
   "cell_type": "code",
   "execution_count": 48,
   "metadata": {},
   "outputs": [
    {
     "name": "stdout",
     "output_type": "stream",
     "text": [
      "0.027\n",
      "0.026496565260059057\n"
     ]
    }
   ],
   "source": [
    "ir = 0.019\n",
    "pr = 0.046\n",
    "\n",
    "## A\n",
    "approx_real_rate = pr - ir\n",
    "\n",
    "exact_real_rate = ((1 + pr) / (1 + ir)) - 1\n",
    "\n",
    "print(approx_real_rate)\n",
    "print(exact_real_rate)"
   ]
  },
  {
   "cell_type": "markdown",
   "metadata": {},
   "source": [
    "## Question 7\n",
    "Say you own an asset that had a total return last year of 14.1 percent. If the inflation rate last year was 2.83 percent, what was your real return? (Do not round intermediate calculations and enter your answer as a percent rounded to 2 decimal places, e.g., 32.16.)"
   ]
  },
  {
   "cell_type": "code",
   "execution_count": 50,
   "metadata": {},
   "outputs": [
    {
     "name": "stdout",
     "output_type": "stream",
     "text": [
      "0.11\n"
     ]
    }
   ],
   "source": [
    "total_return = 0.141\n",
    "ir = 0.0283\n",
    "\n",
    "real_return = ((1 + total_return) / (1 + ir)) - 1\n",
    "print(round(real_return,2))"
   ]
  },
  {
   "cell_type": "markdown",
   "metadata": {},
   "source": [
    "## Question 8\n",
    "Locate the Treasury bond in Figure 7.5 maturing in November 2026. Assume a par value of $10,000.\n",
    " \n",
    "Is this a premium or a discount bond?\n",
    " \n",
    "multiple choice\n",
    "Discount bond\n",
    "Premium bond\n",
    "\n",
    " \n",
    "\n",
    " \n",
    "a.\tWhat is its current yield? (Do not round intermediate calculations and enter your answer as a percent rounded to 2 decimal places, e.g., 32.16.)\n",
    "b.\t\n",
    "What is its yield to maturity? (Do not round intermediate calculations and enter your answer as a percent rounded to 3 decimal places, e.g., 32.161.)\n",
    "\n",
    "c.\tWhat is the bid-ask spread in dollars? (Do not round intermediate calculations and round your answer to 2 decimal places, e.g., 32.16.)\n",
    " "
   ]
  },
  {
   "cell_type": "code",
   "execution_count": 54,
   "metadata": {},
   "outputs": [
    {
     "name": "stdout",
     "output_type": "stream",
     "text": [
      "0.0004991936103217879\n",
      "-0.010000000000019327\n"
     ]
    }
   ],
   "source": [
    "intrest = 0.065\n",
    "asked = 130.21\n",
    "\n",
    "current_yeild = intrest/asked\n",
    "\n",
    "bid_ask = 130.2 - 130.21\n",
    "\n",
    "print(current_yeild)\n",
    "print(bid_ask)"
   ]
  },
  {
   "cell_type": "markdown",
   "metadata": {},
   "source": [
    "## Question 9\n",
    "Both Bond Sam and Bond Dave have 7.1 percent coupons, make semiannual payments, and are priced at par value. Bond Sam has three years to maturity, whereas Bond Dave has 20 years to maturity.\n",
    " \n",
    "If interest rates suddenly rise by 2 percent, what is the percentage change in the price of Bond Sam and Bond Dave? (A negative answer should be indicated by a minus sign. Do not round intermediate calculations and enter your answers as a percent rounded to 2 decimal places, e.g., 32.16.)\n",
    "\n",
    "\n",
    " \n",
    "\n",
    "If rates were to suddenly fall by 2 percent instead, what would be the percentage change in the price of Bond Sam and Bond Dave? (Do not round intermediate calculations and enter your answers as a percent rounded to 2 decimal places, e.g., 32.16.)"
   ]
  },
  {
   "cell_type": "code",
   "execution_count": null,
   "metadata": {},
   "outputs": [],
   "source": []
  },
  {
   "cell_type": "markdown",
   "metadata": {},
   "source": [
    "## Question 10\n",
    "\n",
    "\n",
    "You purchase a bond with an invoice price of $1,053 and a par value of $1,000. The bond has a coupon rate of 5.3 percent, and there are four months to the next semiannual coupon date.\n",
    " \n",
    "What is the clean price of the bond? (Do not round intermediate calculations and round your answer to 2 decimal places, e.g., 32.16.)\n"
   ]
  },
  {
   "cell_type": "code",
   "execution_count": 65,
   "metadata": {},
   "outputs": [
    {
     "name": "stdout",
     "output_type": "stream",
     "text": [
      "8.833333333333332\n",
      "1044.17\n"
     ]
    }
   ],
   "source": [
    "invoice = 1053\n",
    "face_vaule = 1000\n",
    "cr = 0.053\n",
    "\n",
    "accured_intreste = (face_value * cr * (2/12))/10\n",
    "print(accured_intreste)\n",
    "clean_price = invoice - accured_intreste \n",
    "\n",
    "print(round(clean_price, 2))"
   ]
  },
  {
   "cell_type": "markdown",
   "metadata": {},
   "source": [
    "## Question 11\n",
    "\n",
    "Milton Corporation has 8 percent coupon bonds making annual payments with a YTM of 7.2 percent. The current yield on these bonds is 7.55 percent.\n",
    " \n",
    "How many years do these bonds have left until they mature? (Do not round intermediate calculations and round your answer to 2 decimal places, e.g., 32.16.)"
   ]
  },
  {
   "cell_type": "code",
   "execution_count": 69,
   "metadata": {},
   "outputs": [
    {
     "data": {
      "text/plain": [
       "array(-42.75059595)"
      ]
     },
     "execution_count": 69,
     "metadata": {},
     "output_type": "execute_result"
    }
   ],
   "source": [
    "bonds = 0.08\n",
    "y = 0.072\n",
    "by = 0.0755\n",
    "\n",
    "current_price = 80/by\n",
    "current_price\n",
    "\n",
    "npf.nper(y, 80, current_price, 1000)"
   ]
  },
  {
   "cell_type": "markdown",
   "metadata": {},
   "source": [
    "## Question 12\n",
    "\n",
    "Imagination Dragons Corporation needs to raise funds to finance a plant expansion, and it has decided to issue 25-year zero coupon bonds with a par value of $1,000 each to raise the money. The required return on the bonds will be 5.3 percent. Assume semiannual compounding periods.\n",
    "\n",
    " \n",
    "a.\t\n",
    "What will these bonds sell for at issuance? (Do not round intermediate calculations and round your answer to 2 decimal places, e.g., 32.16.)\n",
    "\n",
    "b.\tUsing the IRS amortization rule, what interest deduction can the company take on these bonds in the first year? In the last year? (Do not round intermediate calculations and round your answers to 2 decimal places, e.g., 32.16.)\n",
    "c.\tRepeat part (b) using the straight-line method for the interest deduction. (Do not round intermediate calculations and round your answer to 2 decimal places, e.g., 32.16.)\n",
    " \n",
    "\n",
    " \n",
    "\n",
    "d.\t\n",
    "Based on your answers in (b) and (c), which interest deduction method would the company prefer? (Do not round intermediate calculations and round your answer to 2 decimal places, e.g., 32.16.)"
   ]
  },
  {
   "cell_type": "code",
   "execution_count": 79,
   "metadata": {},
   "outputs": [
    {
     "name": "stdout",
     "output_type": "stream",
     "text": [
      "-204.83897823509068\n"
     ]
    }
   ],
   "source": [
    "## A) \n",
    "n = 25 * 2\n",
    "par_value = 1000\n",
    "r = 0.053\n",
    "\n",
    "issue_price = par_value / (1 + (0.049 / 2))** (n)\n",
    "first_year = ((par_value / ((1 + (0.049 / 2))** (24 * 2))) - par_value )/  ((1 + (0.049 / 2))** n)\n",
    "print(first_year)\n"
   ]
  },
  {
   "cell_type": "markdown",
   "metadata": {},
   "source": [
    "## Question 13\n",
    "When Marilyn Monroe died, ex-husband Joe DiMaggio vowed to place fresh flowers on her grave every Sunday as long as he lived. The week after she died in 1962, a bunch of fresh flowers that the former baseball player thought appropriate for the star cost about $7. Based on actuarial tables, “Joltin’ Joe” could expect to live for 30 years after the actress died. Assume that the EAR is 6.8 percent. Also, assume that the price of the flowers will increase at 3.5 percent per year, when expressed as an EAR. Assume that each year has exactly 52 weeks, and Joe began purchasing flowers the week after Marilyn died.\n"
   ]
  },
  {
   "cell_type": "code",
   "execution_count": 4,
   "metadata": {},
   "outputs": [
    {
     "name": "stdout",
     "output_type": "stream",
     "text": [
      "2.54\n",
      "1.68\n",
      "33.33\n"
     ]
    }
   ],
   "source": [
    "weekly = ((1 + 10.9)**(1/52)-1)*52\n",
    "\n",
    "rise_weekly = ((1 + 4.2)**(1/52)-1)*52\n",
    "\n",
    "commitment = 4/(1 + 10.356/52) * (1 - ((1 + 4.116/52)/(1 + 10.356/52))**(52*39)) / (1 - ((1 + 4.116/52) / (1 + 10.356/52)))\n",
    "\n",
    "print(round(weekly, 2))\n",
    "print(round(rise_weekly, 2))\n",
    "print(round(commitment, 2))"
   ]
  },
  {
   "cell_type": "code",
   "execution_count": null,
   "metadata": {},
   "outputs": [],
   "source": []
  }
 ],
 "metadata": {
  "interpreter": {
   "hash": "b3ba2566441a7c06988d0923437866b63cedc61552a5af99d1f4fb67d367b25f"
  },
  "kernelspec": {
   "display_name": "Python 3.8.8 ('base')",
   "language": "python",
   "name": "python3"
  },
  "language_info": {
   "codemirror_mode": {
    "name": "ipython",
    "version": 3
   },
   "file_extension": ".py",
   "mimetype": "text/x-python",
   "name": "python",
   "nbconvert_exporter": "python",
   "pygments_lexer": "ipython3",
   "version": "3.8.8"
  },
  "orig_nbformat": 4
 },
 "nbformat": 4,
 "nbformat_minor": 2
}
