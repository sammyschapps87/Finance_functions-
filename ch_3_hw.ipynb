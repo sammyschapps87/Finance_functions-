{
 "cells": [
  {
   "cell_type": "markdown",
   "metadata": {},
   "source": [
    "## Question 1\n",
    "#### SDJ, Incorporated, has net working capital of $2,630, current liabilities of $5,970, and inventory of $3,860.\n",
    "\n",
    " \n",
    "\n",
    "##### a.\tWhat is the current ratio? (Do not round intermediate calculations and round your answer to 2 decimal places, e.g., 32.16.)\n",
    "##### b.\tWhat is the quick ratio? (Do not round intermediate calculations and round your answer to 2 decimal places, e.g., 32.16.)\n",
    " "
   ]
  },
  {
   "cell_type": "code",
   "execution_count": 25,
   "metadata": {},
   "outputs": [
    {
     "name": "stdout",
     "output_type": "stream",
     "text": [
      "The current ratio is: 1.440536013400335\n",
      "The quick ratio is: 0.7939698492462312\n"
     ]
    }
   ],
   "source": [
    "## a) \n",
    "current_liabilites = 5970\n",
    "inventory = 3860\n",
    "networking_captial = 2630\n",
    "\n",
    "\n",
    "current_assets = networking_captial + current_liabilites\n",
    "current_ratio = current_assets / current_liabilites\n",
    "\n",
    "print(f'The current ratio is: {current_ratio}')\n",
    "\n",
    "## b) \n",
    "quick_ratio = (current_assets - inventory) / current_liabilites\n",
    "print(f'The quick ratio is: {quick_ratio}')"
   ]
  },
  {
   "cell_type": "markdown",
   "metadata": {},
   "source": [
    "## Question 2\n",
    "####  Denver, Incorporated, has sales of $14.2 million, total assets of $11.3 million, and total debt of $4.9 million. Assume the profit margin is 5 percent.\n",
    " \t \n",
    "##### a.\tWhat is net income? (Do not round intermediate calculations and enter your answer in dollars not in millions, e.g., 1,234,567.)\n",
    "\n",
    "##### b.\tWhat is ROA? (Do not round intermediate calculations and enter your answer as a percent rounded to 2 decimal places, e.g., 32.16.)\n",
    "\n",
    "##### c.\tWhat is ROE? (Do not round intermediate calculations and enter your answer as a percent rounded to 2 decimal places, e.g., 32.16.)"
   ]
  },
  {
   "cell_type": "code",
   "execution_count": 26,
   "metadata": {},
   "outputs": [
    {
     "name": "stdout",
     "output_type": "stream",
     "text": [
      "net income is: 710000.0\n",
      "return on assets is: 6.28\n",
      "return on equity is: 11.09\n"
     ]
    }
   ],
   "source": [
    "sales = 14200000\n",
    "total_assets = 11300000\n",
    "total_debt = 4900000\n",
    "profit_margin = .05\n",
    "\n",
    "## a)\n",
    "net_income = sales * profit_margin\n",
    "\n",
    "## b\n",
    "def return_on_assets():\n",
    "    roa = (net_income / total_assets)*100\n",
    "    print(f'return on assets is: {round(roa, 2)}')\n",
    "\n",
    "## c\n",
    "def return_on_equity():\n",
    "    share_holders_equity = total_assets - total_debt\n",
    "    roe = (net_income / share_holders_equity)*100\n",
    "    print(f'return on equity is: {round(roe, 2)}')\n",
    "\n",
    "\n",
    "print(f'net income is: {round(net_income, 2)}')\n",
    "return_on_assets()\n",
    "return_on_equity()\n"
   ]
  },
  {
   "cell_type": "markdown",
   "metadata": {},
   "source": [
    "## Question 3\n",
    "#### Dahlia Corporation has a current accounts receivable balance of $513,260. Credit sales for the year just ended were $4,986,340. \n",
    " \t \n",
    "##### a.\tWhat is the receivables turnover? (Do not round intermediate calculations and round your answer to 2 decimal places, e.g., 32.16.)\n",
    "##### b.\tWhat is the days' sales in receivables? (Use 365 days a year. Do not round intermediate calculations and round your answer to 2 decimal places, e.g., 32.16.)\n",
    "##### c.\tHow long did it take on average for credit customers to pay off their accounts during the past year? (Use 365 days a year. Do not round intermediate calculations and round your answer to 2 decimal places, e.g., 32.16.)"
   ]
  },
  {
   "cell_type": "code",
   "execution_count": 27,
   "metadata": {},
   "outputs": [
    {
     "name": "stdout",
     "output_type": "stream",
     "text": [
      "The recieveable turnover is: 9.72\n",
      "The Days sales receivable is: 37.57\n",
      "The average collection period is: 37.57\n"
     ]
    }
   ],
   "source": [
    "accounts_receivable = 513260\n",
    "credit_sales = 4986340\n",
    "\n",
    "## a) \n",
    "receivable_turnover = credit_sales / accounts_receivable\n",
    "\n",
    "## b)\n",
    "days_sales_receivable = accounts_receivable*365/credit_sales\n",
    "\n",
    "## c) \n",
    "average_collection_period = 365/receivable_turnover\n",
    "\n",
    "print(f'The recieveable turnover is: {round(receivable_turnover, 2)}')\n",
    "print(f'The Days sales receivable is: {round(days_sales_receivable, 2)}')\n",
    "print(f'The average collection period is: {round(average_collection_period, 2)}')"
   ]
  },
  {
   "cell_type": "markdown",
   "metadata": {},
   "source": [
    "## Question 4\n",
    "#### The Top Corporation has ending inventory of $426,287, and cost of goods sold for the year just ended was $4,738,216. \n",
    " \t \n",
    "##### a.\tWhat is the inventory turnover? (Do not round intermediate calculations and round your answer to 2 decimal places, e.g., 32.16.)\n",
    "##### b.\tWhat is the days' sales in inventory? (Use 365 days a year. Do not round intermediate calculations and round your answer to 2 decimal places, e.g., 32.16.)\n",
    "##### c.\tHow long on average did a unit of inventory sit on the shelf before it was sold? (Use 365 days a year. Do not round intermediate calculations and round your answer to 2 decimal places, e.g., 32.16.)"
   ]
  },
  {
   "cell_type": "code",
   "execution_count": 28,
   "metadata": {},
   "outputs": [
    {
     "name": "stdout",
     "output_type": "stream",
     "text": [
      "The inventory turnover ratio is: 11.12\n",
      "The days sales in inventory is: 32.84\n",
      "The inventory days on shelf is: 32.84\n"
     ]
    }
   ],
   "source": [
    "ending_inventory = 426287\n",
    "cost_of_goods = 4738216\n",
    "\n",
    "## a) \n",
    "inventory_turnover_ratio = cost_of_goods / ending_inventory\n",
    "\n",
    "## b) \n",
    "days_sales_inventory = (ending_inventory / cost_of_goods)*365\n",
    "\n",
    "## c) \n",
    "inventory_days_on_shelf = (ending_inventory / cost_of_goods)*365\n",
    "\n",
    "print(f'The inventory turnover ratio is: {round(inventory_turnover_ratio,2)}')\n",
    "print(f'The days sales in inventory is: {round(days_sales_inventory, 2)}')\n",
    "print(f'The inventory days on shelf is: {round(inventory_days_on_shelf, 2)}')"
   ]
  },
  {
   "cell_type": "markdown",
   "metadata": {},
   "source": [
    "## Question 5\n",
    "\n",
    "#### Mobius, Incorporated, has a total debt ratio of .57.\n",
    " \t \n",
    "##### a.\tWhat is its debt-equity ratio? (Do not round intermediate calculations and round your answer to 2 decimal places, e.g., 32.16.)\n",
    "##### b.\tWhat is its equity multiplier? (Do not round intermediate calculations and round your answer to 2 decimal places, e.g., 32.16.)"
   ]
  },
  {
   "cell_type": "code",
   "execution_count": 35,
   "metadata": {},
   "outputs": [
    {
     "name": "stdout",
     "output_type": "stream",
     "text": [
      "The debt equity ratio is: 1.33\n",
      "The equity mulitiplier is: 2.33\n"
     ]
    }
   ],
   "source": [
    "## a)\n",
    "total_debt2 = 0.57\n",
    "total_equity = 1 - total_debt2\n",
    "debt_equity_ratio = total_debt2 / total_equity\n",
    "print(f'The debt equity ratio is: {round(debt_equity_ratio, 2)}')\n",
    "\n",
    "## b)\n",
    "total_assets2 = 1\n",
    "equity_mulitiplier = total_assets2 / total_equity\n",
    "print(f'The equity mulitiplier is: {round(equity_mulitiplier, 2)}')\n",
    "\n"
   ]
  },
  {
   "cell_type": "markdown",
   "metadata": {},
   "source": [
    "## Question 6\n",
    "#### Bolton Corporation had additions to retained earnings for the year just ended of $435,000. The firm paid out $245,000 in cash dividends, and it has ending total equity of $5.7 million. The company currently has 175,000 shares of common stock outstanding.\n",
    " \t \n",
    "##### a.\tWhat are earnings per share? (Do not round intermediate calculations and round your answer to 2 decimal places, e.g., 32.16.)\n",
    "##### b.\tWhat are dividends per share? (Do not round intermediate calculations and round your answer to 2 decimal places, e.g., 32.16.)\n",
    "##### c.\tWhat is the book value per share? (Do not round intermediate calculations and round your answer to 2 decimal places, e.g., 32.16.)\n",
    "##### d.\tIf the stock currently sells for $78 per share, what is the market-to-book ratio? (Do not round intermediate calculations and round your answer to 2 decimal places, e.g., 32.16.)\n",
    "##### e.\tWhat is the price-earnings ratio? (Do not round intermediate calculations and round your answer to 2 decimal places, e.g., 32.16.)\n",
    "##### f.\tIf the company had sales of $7.45 million, what is the price-sales ratio? (Do not round intermediate calculations and round your answer to 2 decimal places, e.g., 32.16.)"
   ]
  },
  {
   "cell_type": "code",
   "execution_count": 39,
   "metadata": {},
   "outputs": [
    {
     "name": "stdout",
     "output_type": "stream",
     "text": [
      "The earnings per share are: 3.89\n",
      "The dividends per share are: 1.4\n",
      "The book value per share is: 32.57\n",
      "The market to book ratio is: 2.39\n",
      "The price earning ratio is: 20.05\n",
      "The Price sales ratio is: 1.83\n"
     ]
    }
   ],
   "source": [
    "retained_earnings = 435000\n",
    "cash_dividends = 245000\n",
    "total_equity = 5700000\n",
    "common_stock_shares_outstanding = 175000\n",
    "market_price_share = 78\n",
    "sales = 7450000\n",
    "\n",
    "## a)\n",
    "earnings_per_share = (retained_earnings + cash_dividends) / common_stock_shares_outstanding\n",
    "\n",
    "## b)\n",
    "dividend_share = cash_dividends/common_stock_shares_outstanding\n",
    "\n",
    "## c)\n",
    "book_value_per_share = total_equity / common_stock_shares_outstanding\n",
    "\n",
    "## d) \n",
    "market_to_book_ratio = market_price_share / book_value_per_share\n",
    "\n",
    "## e) \n",
    "price_earning_ratio = market_price_share / round(earnings_per_share,2)\n",
    "\n",
    "## f) \n",
    "total_market_price = common_stock_shares_outstanding * market_price_share\n",
    "price_sales_ratio = total_market_price / sales\n",
    "\n",
    "print(f'The earnings per share are: {round(earnings_per_share, 2)}')\n",
    "print(f'The dividends per share are: {round(dividend_share,2)}')\n",
    "print(f'The book value per share is: {round(book_value_per_share,2)}')\n",
    "print(f'The market to book ratio is: {round(market_to_book_ratio, 2)}')\n",
    "print(f'The price earning ratio is: {round(price_earning_ratio,2)}')\n",
    "print(f'The Price sales ratio is: {round(price_sales_ratio,2)}')\n"
   ]
  },
  {
   "cell_type": "markdown",
   "metadata": {},
   "source": [
    "## Question 7\n",
    "#### If Rogers, Incorporated, has an equity multiplier of 1.43, total asset turnover of 1.87, and a profit margin of 6.05 percent, what is its ROE? (Do not round intermediate calculations and enter your answer as a percent rounded to 2 decimal places, e.g., 32.16.)\n",
    "\n"
   ]
  },
  {
   "cell_type": "code",
   "execution_count": 41,
   "metadata": {},
   "outputs": [
    {
     "name": "stdout",
     "output_type": "stream",
     "text": [
      "The Return on Equity is: 16.18\n"
     ]
    }
   ],
   "source": [
    "equity_mulitiplier = 1.43\n",
    "total_asset_turnover = 1.87\n",
    "profit_margin = 6.05\n",
    "\n",
    "roe = profit_margin * total_asset_turnover * equity_mulitiplier\n",
    "\n",
    "print(f'The Return on Equity is: {round(roe,2)}')"
   ]
  },
  {
   "cell_type": "markdown",
   "metadata": {},
   "source": [
    "## Question 8\n",
    "##### Jackson Corporation has a profit margin of 5.8 percent, total asset turnover of 1.75, and ROE of 13.85 percent. What is this firm’s debt-equity ratio? (Do not round intermediate calculations and round your answer to 2 decimal places, e.g., 32.16.)"
   ]
  },
  {
   "cell_type": "code",
   "execution_count": 44,
   "metadata": {},
   "outputs": [
    {
     "name": "stdout",
     "output_type": "stream",
     "text": [
      "The debt equity ratio is: 0.36\n"
     ]
    }
   ],
   "source": [
    "profit_margin = 0.058\n",
    "total_asset_turnover = 1.75\n",
    "roe = .1385\n",
    "\n",
    "financial_leverage = roe/(total_asset_turnover*profit_margin)\n",
    "\n",
    "debt_equity_ratio = financial_leverage - 1\n",
    "\n",
    "print(f'The debt equity ratio is: {round(debt_equity_ratio,2)}')\n",
    "\n"
   ]
  },
  {
   "cell_type": "markdown",
   "metadata": {},
   "source": [
    "## Qeustion 9\n",
    "\n",
    "##### You are given the following information for Ortiz Corporation\n",
    " \n",
    "\n",
    "##### Decrease_in_inventory = 425\n",
    "##### Decrease_in_accounts_payable = 230\n",
    "##### Increase_in_notes_payable = 280\n",
    "##### Increase_in_accounts_receivable = 290\n",
    " \n",
    "\n",
    "##### Did cash go up or down? By how much?"
   ]
  },
  {
   "cell_type": "code",
   "execution_count": 48,
   "metadata": {},
   "outputs": [
    {
     "name": "stdout",
     "output_type": "stream",
     "text": [
      "The change in cash is: $185\n"
     ]
    }
   ],
   "source": [
    "Decrease_in_inventory = 425\n",
    "Decrease_in_accounts_payable = 230\n",
    "Increase_in_notes_payable = 280\n",
    "Increase_in_accounts_receivable = 290\n",
    " \n",
    "change_in_cash = Decrease_in_inventory - Decrease_in_accounts_payable + Increase_in_notes_payable - Increase_in_accounts_receivable\n",
    "print(f'The change in cash is: ${change_in_cash}')"
   ]
  },
  {
   "cell_type": "markdown",
   "metadata": {},
   "source": [
    "## Question 10\n",
    "\n",
    "##### Dexter, Incorporated, had a cost of goods sold of $75,318. At the end of the year, the accounts payable balance was $18,452. How long on average did it take the company to pay off its suppliers during the year? (Use 365 days a year. Do not round intermediate calculations and round your answer to 2 decimal places, e.g., 32.16.)"
   ]
  },
  {
   "cell_type": "code",
   "execution_count": 50,
   "metadata": {},
   "outputs": [
    {
     "name": "stdout",
     "output_type": "stream",
     "text": [
      "The Days sales in payable are: 89.42\n"
     ]
    }
   ],
   "source": [
    "goods_sold = 75318\n",
    "accounts_payable = 18452\n",
    "year = 365\n",
    "\n",
    "days_sales_in_payable = (accounts_payable * year) / goods_sold\n",
    "\n",
    "print(f'The Days sales in payable are: {round(days_sales_in_payable, 2)}')"
   ]
  },
  {
   "cell_type": "code",
   "execution_count": null,
   "metadata": {},
   "outputs": [],
   "source": []
  }
 ],
 "metadata": {
  "interpreter": {
   "hash": "b3ba2566441a7c06988d0923437866b63cedc61552a5af99d1f4fb67d367b25f"
  },
  "kernelspec": {
   "display_name": "Python 3.8.8 ('base')",
   "language": "python",
   "name": "python3"
  },
  "language_info": {
   "codemirror_mode": {
    "name": "ipython",
    "version": 3
   },
   "file_extension": ".py",
   "mimetype": "text/x-python",
   "name": "python",
   "nbconvert_exporter": "python",
   "pygments_lexer": "ipython3",
   "version": "3.8.8"
  },
  "orig_nbformat": 4
 },
 "nbformat": 4,
 "nbformat_minor": 2
}
