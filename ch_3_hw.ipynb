{
 "cells": [
  {
   "cell_type": "markdown",
   "metadata": {},
   "source": [
    "## Question 1\n",
    "#### SDJ, Incorporated, has net working capital of $2,630, current liabilities of $5,970, and inventory of $3,860.\n",
    "\n",
    " \n",
    "\n",
    "##### a.\tWhat is the current ratio? (Do not round intermediate calculations and round your answer to 2 decimal places, e.g., 32.16.)\n",
    "##### b.\tWhat is the quick ratio? (Do not round intermediate calculations and round your answer to 2 decimal places, e.g., 32.16.)\n",
    " "
   ]
  },
  {
   "cell_type": "code",
   "execution_count": 1,
   "metadata": {},
   "outputs": [
    {
     "name": "stdout",
     "output_type": "stream",
     "text": [
      "The current ratio is: 1.440536013400335\n",
      "The quick ratio is: 0.7939698492462312\n"
     ]
    }
   ],
   "source": [
    "## a) \n",
    "current_liabilites = 5970\n",
    "inventory = 3860\n",
    "networking_captial = 2630\n",
    "\n",
    "\n",
    "current_assets = networking_captial + current_liabilites\n",
    "current_ratio = current_assets / current_liabilites\n",
    "\n",
    "print(f'The current ratio is: {current_ratio}')\n",
    "\n",
    "## b) \n",
    "quick_ratio = (current_assets - inventory) / current_liabilites\n",
    "print(f'The quick ratio is: {quick_ratio}')"
   ]
  },
  {
   "cell_type": "markdown",
   "metadata": {},
   "source": [
    "## Question 2\n",
    "####  Denver, Incorporated, has sales of $14.2 million, total assets of $11.3 million, and total debt of $4.9 million. Assume the profit margin is 5 percent.\n",
    " \t \n",
    "##### a.\tWhat is net income? (Do not round intermediate calculations and enter your answer in dollars not in millions, e.g., 1,234,567.)\n",
    "\n",
    "##### b.\tWhat is ROA? (Do not round intermediate calculations and enter your answer as a percent rounded to 2 decimal places, e.g., 32.16.)\n",
    "\n",
    "##### c.\tWhat is ROE? (Do not round intermediate calculations and enter your answer as a percent rounded to 2 decimal places, e.g., 32.16.)"
   ]
  },
  {
   "cell_type": "code",
   "execution_count": 2,
   "metadata": {},
   "outputs": [
    {
     "name": "stdout",
     "output_type": "stream",
     "text": [
      "net income is: 710000.0\n",
      "return on assets is: 6.28\n",
      "return on equity is: 11.09\n"
     ]
    }
   ],
   "source": [
    "sales = 14200000\n",
    "total_assets = 11300000\n",
    "total_debt = 4900000\n",
    "profit_margin = .05\n",
    "\n",
    "## a)\n",
    "net_income = sales * profit_margin\n",
    "\n",
    "## b\n",
    "def return_on_assets():\n",
    "    roa = (net_income / total_assets)*100\n",
    "    print(f'return on assets is: {round(roa, 2)}')\n",
    "\n",
    "## c\n",
    "def return_on_equity():\n",
    "    share_holders_equity = total_assets - total_debt\n",
    "    roe = (net_income / share_holders_equity)*100\n",
    "    print(f'return on equity is: {round(roe, 2)}')\n",
    "\n",
    "\n",
    "print(f'net income is: {round(net_income, 2)}')\n",
    "return_on_assets()\n",
    "return_on_equity()\n"
   ]
  },
  {
   "cell_type": "markdown",
   "metadata": {},
   "source": [
    "## Question 3\n",
    "#### Dahlia Corporation has a current accounts receivable balance of $513,260. Credit sales for the year just ended were $4,986,340. \n",
    " \t \n",
    "##### a.\tWhat is the receivables turnover? (Do not round intermediate calculations and round your answer to 2 decimal places, e.g., 32.16.)\n",
    "##### b.\tWhat is the days' sales in receivables? (Use 365 days a year. Do not round intermediate calculations and round your answer to 2 decimal places, e.g., 32.16.)\n",
    "##### c.\tHow long did it take on average for credit customers to pay off their accounts during the past year? (Use 365 days a year. Do not round intermediate calculations and round your answer to 2 decimal places, e.g., 32.16.)"
   ]
  },
  {
   "cell_type": "code",
   "execution_count": 3,
   "metadata": {},
   "outputs": [
    {
     "name": "stdout",
     "output_type": "stream",
     "text": [
      "The recieveable turnover is: 9.72\n",
      "The Days sales receivable is: 37.57\n",
      "The average collection period is: 37.57\n"
     ]
    }
   ],
   "source": [
    "accounts_receivable = 513260\n",
    "credit_sales = 4986340\n",
    "\n",
    "## a) \n",
    "receivable_turnover = credit_sales / accounts_receivable\n",
    "\n",
    "## b)\n",
    "days_sales_receivable = accounts_receivable*365/credit_sales\n",
    "\n",
    "## c) \n",
    "average_collection_period = 365/receivable_turnover\n",
    "\n",
    "print(f'The recieveable turnover is: {round(receivable_turnover, 2)}')\n",
    "print(f'The Days sales receivable is: {round(days_sales_receivable, 2)}')\n",
    "print(f'The average collection period is: {round(average_collection_period, 2)}')"
   ]
  },
  {
   "cell_type": "markdown",
   "metadata": {},
   "source": [
    "## Question 4\n",
    "#### The Top Corporation has ending inventory of $426,287, and cost of goods sold for the year just ended was $4,738,216. \n",
    " \t \n",
    "##### a.\tWhat is the inventory turnover? (Do not round intermediate calculations and round your answer to 2 decimal places, e.g., 32.16.)\n",
    "##### b.\tWhat is the days' sales in inventory? (Use 365 days a year. Do not round intermediate calculations and round your answer to 2 decimal places, e.g., 32.16.)\n",
    "##### c.\tHow long on average did a unit of inventory sit on the shelf before it was sold? (Use 365 days a year. Do not round intermediate calculations and round your answer to 2 decimal places, e.g., 32.16.)"
   ]
  },
  {
   "cell_type": "code",
   "execution_count": 4,
   "metadata": {},
   "outputs": [
    {
     "name": "stdout",
     "output_type": "stream",
     "text": [
      "The inventory turnover ratio is: 11.12\n",
      "The days sales in inventory is: 32.84\n",
      "The inventory days on shelf is: 32.84\n"
     ]
    }
   ],
   "source": [
    "ending_inventory = 426287\n",
    "cost_of_goods = 4738216\n",
    "\n",
    "## a) \n",
    "inventory_turnover_ratio = cost_of_goods / ending_inventory\n",
    "\n",
    "## b) \n",
    "days_sales_inventory = (ending_inventory / cost_of_goods)*365\n",
    "\n",
    "## c) \n",
    "inventory_days_on_shelf = (ending_inventory / cost_of_goods)*365\n",
    "\n",
    "print(f'The inventory turnover ratio is: {round(inventory_turnover_ratio,2)}')\n",
    "print(f'The days sales in inventory is: {round(days_sales_inventory, 2)}')\n",
    "print(f'The inventory days on shelf is: {round(inventory_days_on_shelf, 2)}')"
   ]
  },
  {
   "cell_type": "markdown",
   "metadata": {},
   "source": [
    "## Question 5\n",
    "\n",
    "#### Mobius, Incorporated, has a total debt ratio of .57.\n",
    " \t \n",
    "##### a.\tWhat is its debt-equity ratio? (Do not round intermediate calculations and round your answer to 2 decimal places, e.g., 32.16.)\n",
    "##### b.\tWhat is its equity multiplier? (Do not round intermediate calculations and round your answer to 2 decimal places, e.g., 32.16.)"
   ]
  },
  {
   "cell_type": "code",
   "execution_count": 5,
   "metadata": {},
   "outputs": [
    {
     "name": "stdout",
     "output_type": "stream",
     "text": [
      "The debt equity ratio is: 1.33\n",
      "The equity mulitiplier is: 2.33\n"
     ]
    }
   ],
   "source": [
    "## a)\n",
    "total_debt2 = 0.57\n",
    "total_equity = 1 - total_debt2\n",
    "debt_equity_ratio = total_debt2 / total_equity\n",
    "print(f'The debt equity ratio is: {round(debt_equity_ratio, 2)}')\n",
    "\n",
    "## b)\n",
    "total_assets2 = 1\n",
    "equity_mulitiplier = total_assets2 / total_equity\n",
    "print(f'The equity mulitiplier is: {round(equity_mulitiplier, 2)}')\n",
    "\n"
   ]
  },
  {
   "cell_type": "markdown",
   "metadata": {},
   "source": [
    "## Question 6\n",
    "#### Bolton Corporation had additions to retained earnings for the year just ended of $435,000. The firm paid out $245,000 in cash dividends, and it has ending total equity of $5.7 million. The company currently has 175,000 shares of common stock outstanding.\n",
    " \t \n",
    "##### a.\tWhat are earnings per share? (Do not round intermediate calculations and round your answer to 2 decimal places, e.g., 32.16.)\n",
    "##### b.\tWhat are dividends per share? (Do not round intermediate calculations and round your answer to 2 decimal places, e.g., 32.16.)\n",
    "##### c.\tWhat is the book value per share? (Do not round intermediate calculations and round your answer to 2 decimal places, e.g., 32.16.)\n",
    "##### d.\tIf the stock currently sells for $78 per share, what is the market-to-book ratio? (Do not round intermediate calculations and round your answer to 2 decimal places, e.g., 32.16.)\n",
    "##### e.\tWhat is the price-earnings ratio? (Do not round intermediate calculations and round your answer to 2 decimal places, e.g., 32.16.)\n",
    "##### f.\tIf the company had sales of $7.45 million, what is the price-sales ratio? (Do not round intermediate calculations and round your answer to 2 decimal places, e.g., 32.16.)"
   ]
  },
  {
   "cell_type": "code",
   "execution_count": 6,
   "metadata": {},
   "outputs": [
    {
     "name": "stdout",
     "output_type": "stream",
     "text": [
      "The earnings per share are: 3.89\n",
      "The dividends per share are: 1.4\n",
      "The book value per share is: 32.57\n",
      "The market to book ratio is: 2.39\n",
      "The price earning ratio is: 20.05\n",
      "The Price sales ratio is: 1.83\n"
     ]
    }
   ],
   "source": [
    "retained_earnings = 435000\n",
    "cash_dividends = 245000\n",
    "total_equity = 5700000\n",
    "common_stock_shares_outstanding = 175000\n",
    "market_price_share = 78\n",
    "sales = 7450000\n",
    "\n",
    "## a)\n",
    "earnings_per_share = (retained_earnings + cash_dividends) / common_stock_shares_outstanding\n",
    "\n",
    "## b)\n",
    "dividend_share = cash_dividends/common_stock_shares_outstanding\n",
    "\n",
    "## c)\n",
    "book_value_per_share = total_equity / common_stock_shares_outstanding\n",
    "\n",
    "## d) \n",
    "market_to_book_ratio = market_price_share / book_value_per_share\n",
    "\n",
    "## e) \n",
    "price_earning_ratio = market_price_share / round(earnings_per_share,2)\n",
    "\n",
    "## f) \n",
    "total_market_price = common_stock_shares_outstanding * market_price_share\n",
    "price_sales_ratio = total_market_price / sales\n",
    "\n",
    "print(f'The earnings per share are: {round(earnings_per_share, 2)}')\n",
    "print(f'The dividends per share are: {round(dividend_share,2)}')\n",
    "print(f'The book value per share is: {round(book_value_per_share,2)}')\n",
    "print(f'The market to book ratio is: {round(market_to_book_ratio, 2)}')\n",
    "print(f'The price earning ratio is: {round(price_earning_ratio,2)}')\n",
    "print(f'The Price sales ratio is: {round(price_sales_ratio,2)}')\n"
   ]
  },
  {
   "cell_type": "markdown",
   "metadata": {},
   "source": [
    "## Question 7\n",
    "#### If Rogers, Incorporated, has an equity multiplier of 1.43, total asset turnover of 1.87, and a profit margin of 6.05 percent, what is its ROE? (Do not round intermediate calculations and enter your answer as a percent rounded to 2 decimal places, e.g., 32.16.)\n",
    "\n"
   ]
  },
  {
   "cell_type": "code",
   "execution_count": 7,
   "metadata": {},
   "outputs": [
    {
     "name": "stdout",
     "output_type": "stream",
     "text": [
      "The Return on Equity is: 16.18\n"
     ]
    }
   ],
   "source": [
    "equity_mulitiplier = 1.43\n",
    "total_asset_turnover = 1.87\n",
    "profit_margin = 6.05\n",
    "\n",
    "roe = profit_margin * total_asset_turnover * equity_mulitiplier\n",
    "\n",
    "print(f'The Return on Equity is: {round(roe,2)}')"
   ]
  },
  {
   "cell_type": "markdown",
   "metadata": {},
   "source": [
    "## Question 8\n",
    "##### Jackson Corporation has a profit margin of 5.8 percent, total asset turnover of 1.75, and ROE of 13.85 percent. What is this firm’s debt-equity ratio? (Do not round intermediate calculations and round your answer to 2 decimal places, e.g., 32.16.)"
   ]
  },
  {
   "cell_type": "code",
   "execution_count": 8,
   "metadata": {},
   "outputs": [
    {
     "name": "stdout",
     "output_type": "stream",
     "text": [
      "The debt equity ratio is: 0.36\n"
     ]
    }
   ],
   "source": [
    "profit_margin = 0.058\n",
    "total_asset_turnover = 1.75\n",
    "roe = .1385\n",
    "\n",
    "financial_leverage = roe/(total_asset_turnover*profit_margin)\n",
    "\n",
    "debt_equity_ratio = financial_leverage - 1\n",
    "\n",
    "print(f'The debt equity ratio is: {round(debt_equity_ratio,2)}')\n",
    "\n"
   ]
  },
  {
   "cell_type": "markdown",
   "metadata": {},
   "source": [
    "## Qeustion 9\n",
    "\n",
    "##### You are given the following information for Ortiz Corporation\n",
    " \n",
    "\n",
    "##### Decrease_in_inventory = 425\n",
    "##### Decrease_in_accounts_payable = 230\n",
    "##### Increase_in_notes_payable = 280\n",
    "##### Increase_in_accounts_receivable = 290\n",
    " \n",
    "\n",
    "##### Did cash go up or down? By how much?"
   ]
  },
  {
   "cell_type": "code",
   "execution_count": 9,
   "metadata": {},
   "outputs": [
    {
     "name": "stdout",
     "output_type": "stream",
     "text": [
      "The change in cash is: $185\n"
     ]
    }
   ],
   "source": [
    "Decrease_in_inventory = 425\n",
    "Decrease_in_accounts_payable = 230\n",
    "Increase_in_notes_payable = 280\n",
    "Increase_in_accounts_receivable = 290\n",
    " \n",
    "change_in_cash = Decrease_in_inventory - Decrease_in_accounts_payable + Increase_in_notes_payable - Increase_in_accounts_receivable\n",
    "print(f'The change in cash is: ${change_in_cash}')"
   ]
  },
  {
   "cell_type": "markdown",
   "metadata": {},
   "source": [
    "## Question 10\n",
    "\n",
    "##### Dexter, Incorporated, had a cost of goods sold of $75,318. At the end of the year, the accounts payable balance was $18,452. How long on average did it take the company to pay off its suppliers during the year? (Use 365 days a year. Do not round intermediate calculations and round your answer to 2 decimal places, e.g., 32.16.)"
   ]
  },
  {
   "cell_type": "code",
   "execution_count": 10,
   "metadata": {},
   "outputs": [
    {
     "name": "stdout",
     "output_type": "stream",
     "text": [
      "The Days sales in payable are: 89.42\n"
     ]
    }
   ],
   "source": [
    "goods_sold = 75318\n",
    "accounts_payable = 18452\n",
    "year = 365\n",
    "\n",
    "days_sales_in_payable = (accounts_payable * year) / goods_sold\n",
    "\n",
    "print(f'The Days sales in payable are: {round(days_sales_in_payable, 2)}')"
   ]
  },
  {
   "cell_type": "markdown",
   "metadata": {},
   "source": [
    "## Question 11\n",
    "#### The market value of the equity of Nina, Incorporated, is $755,000. The balance sheet shows $63,000 in cash and $220,000 in debt, while the income statement has EBIT of $95,000 and a total of $178,000 in depreciation and amortization. What is the enterprise value-EBITDA multiple for this company? (Do not round intermediate calculations and round your answer to 2 decimal places, e.g., 32.16.)"
   ]
  },
  {
   "cell_type": "code",
   "execution_count": 11,
   "metadata": {},
   "outputs": [
    {
     "name": "stdout",
     "output_type": "stream",
     "text": [
      "The Enterprise value to EBITDA mutiple is: 3.34\n"
     ]
    }
   ],
   "source": [
    "market_value_equity = 755000\n",
    "cash = 63000\n",
    "debt = 220000\n",
    "EBIT = 95000\n",
    "depreciation = 178000\n",
    "\n",
    "enterprise_value = market_value_equity + debt - cash\n",
    "EBITDA = EBIT + depreciation\n",
    "\n",
    "enterprise_value_to_EBITDA_mutiple = enterprise_value / EBITDA\n",
    "\n",
    "print(f'The Enterprise value to EBITDA mutiple is: {round(enterprise_value_to_EBITDA_mutiple, 2)}')\n"
   ]
  },
  {
   "cell_type": "markdown",
   "metadata": {},
   "source": [
    "## Question 12\n",
    "##### Kodi Company has a debt-equity ratio of .63. Return on assets is 8.4 percent, and total equity is $645,000. \n",
    " \t \n",
    "##### a.\tWhat is the equity multiplier? (Do not round intermediate calculations and round your answer to 2 decimal places, e.g., 32.16.)\n",
    "##### b.\tWhat is the return on equity? (Do not round intermediate calculations and enter your answer as a percent rounded to 2 decimal places, e.g., 32.16.)\n",
    "##### c.\tWhat is the net income? (Do not round intermediate calculations and round your answer to 2 decimal places, e.g., 32.16.)"
   ]
  },
  {
   "cell_type": "code",
   "execution_count": 13,
   "metadata": {},
   "outputs": [
    {
     "name": "stdout",
     "output_type": "stream",
     "text": [
      "The equity mulitiplier is: 1.63\n",
      "The Return on equity is: 13.69\n",
      "The net Income is: 8831340.0\n"
     ]
    }
   ],
   "source": [
    "roa = 8.4\n",
    "debt_eauity_ratio = 0.63\n",
    "total_equity = 645000\n",
    "\n",
    "## a)\n",
    "equity_multiplier = 1 + debt_eauity_ratio\n",
    "\n",
    "## b)\n",
    "roe = roa * equity_multiplier\n",
    "\n",
    "## c)\n",
    "net_income = roe*total_equity\n",
    "\n",
    "\n",
    "print(f'The equity mulitiplier is: {round(equity_multiplier,2)}')\n",
    "print(f'The Return on equity is: {round(roe,2)}')\n",
    "print(f'The net Income is: {round(net_income, 2)}')\n"
   ]
  },
  {
   "cell_type": "markdown",
   "metadata": {},
   "source": [
    "## Question 16\n",
    "##### The Mikado Company has a long-term debt ratio of .35 and a current ratio of 1.45. Current liabilities are $1,140, sales are $8,370, profit margin is 8.3 percent, and ROE is 16.5 percent. What is the amount of the firm’s net fixed assets? (Do not round intermediate calculations and round your answer to 2 decimal places, e.g., 32.16.)\n",
    "\n"
   ]
  },
  {
   "cell_type": "code",
   "execution_count": 14,
   "metadata": {},
   "outputs": [],
   "source": [
    "long_term_debt_ratio = 0.35\n",
    "current_ratio = 1.45\n",
    "current_liabilites = 1140\n",
    "sales = 8370\n",
    "profit_margin = 8.3\n",
    "roe = .165\n",
    "\n",
    "current_assets = current_ratio + current_liabilites\n",
    "net_income = sales * profit_margin\n",
    "equity = net_income / roe\n",
    "\n",
    "lond_term_debt = 1473.62727 / 0.65\n",
    "\n",
    "\n"
   ]
  },
  {
   "cell_type": "markdown",
   "metadata": {},
   "source": [
    "## Question 17\n",
    "#####  In response to complaints about high prices, a grocery chain runs the following advertising campaign: “If you pay your child $1.25 to go buy $50 worth of groceries, then your child makes twice as much on the trip as we do.” You’ve collected the following information from the grocery chain’s financial statements:\n",
    "\n",
    " \n",
    "\n",
    "##### (in millions) Sales\t$ 680.0 Net income\t8.5 Total assets\t380.0 Total debt\t270.0\n",
    " \n",
    "\n",
    "##### a.\tWhat is the profit margin for the child as a percentage of what they spend and the profit margin for the store? (Do not round intermediate calculations and enter your answers as a percent rounded to 2 decimal places, e.g., 32.16.)\n",
    "##### b.\tWhat is the store's ROE? (Do not round intermediate calculations and enter your answer as a percent rounded to 2 decimal places, e.g., 32.16.)"
   ]
  },
  {
   "cell_type": "code",
   "execution_count": 23,
   "metadata": {},
   "outputs": [
    {
     "name": "stdout",
     "output_type": "stream",
     "text": [
      "The childs profit margin is: 2.5\n",
      "The Stores profit margin is: 1.25\n",
      "The roe is: 7.73\n"
     ]
    }
   ],
   "source": [
    "sales = 680\n",
    "net_income = 8.5\n",
    "total_assets = 380\n",
    "total_debt = 270\n",
    "\n",
    "## a) \n",
    "childs_profit_margin = 1.25 / 50 * 100\n",
    "\n",
    "## b) \n",
    "stores_profit_margin = net_income / sales * 100\n",
    "\n",
    "## c) \n",
    "total_equity = total_assets - total_debt\n",
    "roe = (net_income / total_equity) * 100\n",
    "\n",
    "print(f'The childs profit margin is: {round(childs_profit_margin, 2)}')\n",
    "print(f'The Stores profit margin is: {round(stores_profit_margin,2)}')\n",
    "print(f'The roe is: {round(roe, 2)}')\n",
    "\n"
   ]
  },
  {
   "cell_type": "markdown",
   "metadata": {},
   "source": [
    "## Question 18\n",
    "##### Whipporwill, Incorporated’s, net income for the most recent year was $19,382. The tax rate was 21 percent. The firm paid $3,681 in total interest expense and deducted $4,738 in depreciation expense. What was the cash coverage ratio for the year? (Do not round intermediate calculations and round your answer to 2 decimal places, e.g., 32.16.)\n",
    "\n"
   ]
  },
  {
   "cell_type": "code",
   "execution_count": 1,
   "metadata": {},
   "outputs": [
    {
     "name": "stdout",
     "output_type": "stream",
     "text": [
      "The cash coverage ratio is: 8.95\n"
     ]
    }
   ],
   "source": [
    "net_income = 19382\n",
    "tax_rate = 0.21\n",
    "intrest_expense = 3681\n",
    "depreciation_expense = 4738\n",
    "\n",
    "tax_at_21_percent = net_income * tax_rate / (1-tax_rate)\n",
    "income_before_tax = tax_at_21_percent + net_income\n",
    "EBIT = income_before_tax + intrest_expense\n",
    "cash_coverage_ratio = (EBIT + depreciation_expense) / intrest_expense\n",
    "\n",
    "print(f'The cash coverage ratio is: {round(cash_coverage_ratio,2)}')"
   ]
  },
  {
   "cell_type": "markdown",
   "metadata": {},
   "source": [
    "## Question 20\n",
    "##### What is tobins IQ given the following table? \n",
    "\n"
   ]
  },
  {
   "cell_type": "markdown",
   "metadata": {},
   "source": [
    "SMOLIRA GOLF Corporation\n",
    "2020 and 2021 Balance Sheets\n",
    "Assets\t2020\t2021\tLiabilities and Owners’ Equity\t2020\t2021\n",
    "Current assets\t \t \tCurrent liabilities\t \t \n",
    "Cash\t$ 32,653\t$ 39,350\tAccounts payable\t$ 34,886\t$ 44,285\n",
    "Accounts receivable\t16,911\t28,877\tNotes payable\t18,058\t16,848\n",
    "Inventory\t34,495\t44,336\tOther\t18,871\t25,619\n",
    " \t\n",
    " \t\n",
    "Total\t$ 84,059\t$ 112,563\tTotal\t$ 71,815\t$ 86,752\n",
    " \t\n",
    " \t\n",
    " \t \t \tLong-term debt\t$ 110,000\t$ 140,000\n",
    " \t \t \t \t \t \n",
    " \t \t \tOwners’ equity\t \t \n",
    " \t \t \tCommon stock and paid-in surplus\t$ 55,000\t$ 55,000\n",
    "Fixed assets\t \t \tAccumulated retained earnings\t288,343\t333,683\n",
    " \t \t \t \t\n",
    "Net plant and equipment\t$ 441,099\t$ 502,872\tTotal\t$ 343,343\t$ 388,683\n",
    " \t\n",
    " \t\n",
    "Total assets\t$ 525,158\t$ 615,435\tTotal liabilities and owners’ equity\t$ 525,158\t$ 615,435\n",
    " \t\n",
    " \t\n",
    " \n",
    "\n",
    "SMOLIRA GOLF Corporation\n",
    "2021 Income Statement\n",
    "Sales\t \t$ 531,750\n",
    "Cost of goods sold\t \t377,294\n",
    "Depreciation\t \t46,686\n",
    " \t \t\n",
    "Earnings before interest and taxes\t \t$ 107,770\n",
    "Interest paid\t \t20,650\n",
    " \t \t\n",
    "Taxable income\t \t$ 87,120\n",
    "Taxes (25%)\t \t21,780\n",
    " \t \t\n",
    "Net income\t \t$ 65,340\n",
    " \t \t\n",
    "Dividends\t$ 20,000\t \n",
    "Retained earnings\t45,340"
   ]
  },
  {
   "cell_type": "code",
   "execution_count": 2,
   "metadata": {},
   "outputs": [
    {
     "name": "stdout",
     "output_type": "stream",
     "text": [
      "Tobins Q is: 2.29\n"
     ]
    }
   ],
   "source": [
    "market_price = 15000\n",
    "shares_outstanding = 79\n",
    "current_liabilites = 86752\n",
    "debt = 140000\n",
    "\n",
    "market_value_of_equity = market_price * shares_outstanding\n",
    "total_debt = current_liabilites + debt\n",
    "\n",
    "Tobins_Q = (market_value_of_equity + total_debt) / 615435\n",
    "\n",
    "print(f'Tobins Q is: {round(Tobins_Q, 2)}')\n"
   ]
  },
  {
   "cell_type": "code",
   "execution_count": null,
   "metadata": {},
   "outputs": [],
   "source": []
  }
 ],
 "metadata": {
  "interpreter": {
   "hash": "b3ba2566441a7c06988d0923437866b63cedc61552a5af99d1f4fb67d367b25f"
  },
  "kernelspec": {
   "display_name": "Python 3.8.8 ('base')",
   "language": "python",
   "name": "python3"
  },
  "language_info": {
   "codemirror_mode": {
    "name": "ipython",
    "version": 3
   },
   "file_extension": ".py",
   "mimetype": "text/x-python",
   "name": "python",
   "nbconvert_exporter": "python",
   "pygments_lexer": "ipython3",
   "version": "3.8.8"
  },
  "orig_nbformat": 4
 },
 "nbformat": 4,
 "nbformat_minor": 2
}
