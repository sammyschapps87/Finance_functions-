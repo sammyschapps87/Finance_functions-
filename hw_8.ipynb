{
 "cells": [
  {
   "cell_type": "markdown",
   "metadata": {},
   "source": [
    "## Question 1\n",
    "\n",
    "The RLX Company just paid a dividend of $3.20 per share on its stock. The dividends are expected to grow at a constant rate of 4 percent per year indefinitely. Investors require a return of 10.5 percent on the company's stock.\n",
    " \n",
    "\n",
    "a.\tWhat is the current stock price? (Do not round intermediate calculations and round your answer to 2 decimal places, e.g., 32.16.)\n",
    "b.\tWhat will the stock price be in 3 years? (Do not round intermediate calculations and round your answer to 2 decimal places, e.g., 32.16.)\n",
    "c.\tWhat will the stock price be in 15 years? (Do not round intermediate calculations and round your answer to 2 decimal places, e.g., 32.16.)"
   ]
  },
  {
   "cell_type": "code",
   "execution_count": 9,
   "metadata": {},
   "outputs": [
    {
     "name": "stdout",
     "output_type": "stream",
     "text": [
      "51.2\n",
      "57.59\n",
      "92.21\n"
     ]
    }
   ],
   "source": [
    "div = 3.20\n",
    "cr = 0.04\n",
    "rr = 0.105\n",
    "\n",
    "## A) \n",
    "current_price = (div * (1 + cr)) / (rr - cr)\n",
    "print(round(current_price, 2))\n",
    "\n",
    "## B) \n",
    "n = 3 + 1\n",
    "three_year_price = (div * ((1 + cr)**n)) / (rr - cr)\n",
    "print(round(three_year_price, 2))\n",
    "\n",
    "## C)\n",
    "n = 15 + 1\n",
    "fifteen_year_price = (div * ((1 + cr)**n)) / (rr - cr)\n",
    "print(round(fifteen_year_price, 2))"
   ]
  },
  {
   "cell_type": "markdown",
   "metadata": {},
   "source": [
    "## Question 2\n",
    "\n",
    "Five Star Corporation will pay a dividend of $3.04 per share next year. The company pledges to increase its dividend by 3.75 percent per year indefinitely. If you require a return of 11 percent on your investment, how much will you pay for the company’s stock today? (Do not round intermediate calculations and round your answer to 2 decimal places, e.g., 32.16.)"
   ]
  },
  {
   "cell_type": "code",
   "execution_count": 10,
   "metadata": {},
   "outputs": [
    {
     "name": "stdout",
     "output_type": "stream",
     "text": [
      "41.93\n"
     ]
    }
   ],
   "source": [
    "div = 3.04\n",
    "gr = 0.0375\n",
    "rr = 0.11\n",
    "\n",
    "\n",
    "price_of_company = div / (rr -gr)\n",
    "print(round(price_of_company, 2))"
   ]
  },
  {
   "cell_type": "markdown",
   "metadata": {},
   "source": [
    "## Question 3\n",
    "Hailey Corporation pays a constant $9.45 dividend on its stock. The company will maintain this dividend for the next 13 years and will then cease paying dividends forever. If the required return on this stock is 10.7 percent, what is the current share price? (Do not round intermediate calculations and round your answer to 2 decimal places, e.g., 32.16.)\n",
    "\n"
   ]
  },
  {
   "cell_type": "code",
   "execution_count": 15,
   "metadata": {},
   "outputs": [
    {
     "name": "stdout",
     "output_type": "stream",
     "text": [
      "64.76\n",
      "0.15\n"
     ]
    }
   ],
   "source": [
    "div = 9.45\n",
    "rr = 0.107\n",
    "n = 13\n",
    "\n",
    "annuity_factor = (1 - ((1 + rr)**-n))/rr\n",
    "\n",
    "\n",
    "pv_of_cashflow = annuity_factor * div\n",
    "print(round(pv_of_cashflow,2))\n",
    "\n",
    "required_return = div / pv_of_cashflow\n",
    "print(round(required_return,2))"
   ]
  },
  {
   "cell_type": "markdown",
   "metadata": {},
   "source": [
    "## question 4\n"
   ]
  },
  {
   "cell_type": "code",
   "execution_count": 19,
   "metadata": {},
   "outputs": [
    {
     "name": "stdout",
     "output_type": "stream",
     "text": [
      "4.09\n",
      "0.040860215053763436\n"
     ]
    }
   ],
   "source": [
    "div = 3.80\n",
    "share_price = 93\n",
    "\n",
    "\n",
    "\n",
    "\n",
    "required_return = div /share_price\n",
    "print(round(required_return *100 ,2))\n"
   ]
  },
  {
   "cell_type": "markdown",
   "metadata": {},
   "source": [
    "## Question 5\n",
    "\n",
    "The Dahlia Flower Company has earnings of $3.64 per share. The benchmark PE for the company is 18.\n",
    " \n",
    "\n",
    "a.\tWhat stock price would you consider appropriate? (Do not round intermediate calculations and round your answer to 2 decimal places, e.g., 32.16.)\n",
    "b.\tWhat if the benchmark PE were 21? (Do not round intermediate calculations and round your answer to 2 decimal places, e.g., 32.16.)"
   ]
  },
  {
   "cell_type": "code",
   "execution_count": 23,
   "metadata": {},
   "outputs": [
    {
     "name": "stdout",
     "output_type": "stream",
     "text": [
      "65.52\n",
      "76.44\n"
     ]
    }
   ],
   "source": [
    "share_price = 3.64\n",
    "PE = 18\n",
    "\n",
    "app_price = PE * share_price\n",
    "print(round(app_price,2))\n",
    "PE = 21\n",
    "app_price = PE * share_price\n",
    "\n",
    "print(round(app_price,2))\n",
    "\n"
   ]
  },
  {
   "cell_type": "markdown",
   "metadata": {},
   "source": [
    "## Question 6\n",
    "Metallica Bearings, Incorporated, is a young start-up company. No dividends will be paid on the stock over the next nine years because the firm needs to plow back its earnings to fuel growth. The company will pay a dividend of $14 per share 10 years from today and will increase the dividend by 3.9 percent per year thereafter. If the required return on this stock is 11.5 percent, what is the current share price? (Do not round intermediate calculations and round your answer to 2 decimal places, e.g., 32.16.)\n",
    "\n"
   ]
  },
  {
   "cell_type": "code",
   "execution_count": 32,
   "metadata": {},
   "outputs": [
    {
     "name": "stdout",
     "output_type": "stream",
     "text": [
      "69.16\n"
     ]
    }
   ],
   "source": [
    "div = 14\n",
    "ir = 0.039\n",
    "rr = 0.115\n",
    "\n",
    "p = div / (rr - ir)\n",
    "\n",
    "current_stock_price = p / ((1 + rr)**9)\n",
    "print(round(current_stock_price, 2))"
   ]
  },
  {
   "cell_type": "markdown",
   "metadata": {},
   "source": [
    "## Question 7\n",
    "Synovec Company is growing quickly. Dividends are expected to grow at a rate of 30 percent for the next three years, with the growth rate falling off to a constant 4 percent thereafter. If the required return is 10 percent, and the company just paid a dividend of $2.65, what is the current share price? (Do not round intermediate calculations and round your answer to 2 decimal places, e.g., 32.16.)\n",
    "\n"
   ]
  },
  {
   "cell_type": "code",
   "execution_count": 38,
   "metadata": {},
   "outputs": [
    {
     "name": "stdout",
     "output_type": "stream",
     "text": [
      "55.00483636363637\n",
      "51.21\n"
     ]
    }
   ],
   "source": [
    "d = 2.65\n",
    "d1 = d * 1.30\n",
    "d2 = d1 *1.30\n",
    "d3 = d2 * 1.30\n",
    "d4 = d3 * 1.04\n",
    "\n",
    "price_three = d4 / 0.11 - 0.04\n",
    "print(price_three)\n",
    "\n",
    "current_price = (d1 / (1 + 0.11)) + (d2 / ((1 + 0.11)**2)) + ((d3 + price_three) / ((1 + 0.11)**3))\n",
    "\n",
    "print(round(current_price, 2))\n"
   ]
  },
  {
   "cell_type": "code",
   "execution_count": 42,
   "metadata": {},
   "outputs": [
    {
     "name": "stdout",
     "output_type": "stream",
     "text": [
      "52.42816901408452\n",
      "0.02527547619234105\n"
     ]
    }
   ],
   "source": [
    "div = 3.60 \n",
    "r = 0.105\n",
    "g = 0.034\n",
    "\n",
    "p = div * (g + 1) / (r - g)\n",
    "print(p)\n",
    "\n",
    "eqr = (1 + r) **0.25 - 1\n",
    "print(eqr)\n"
   ]
  },
  {
   "cell_type": "code",
   "execution_count": null,
   "metadata": {},
   "outputs": [],
   "source": []
  }
 ],
 "metadata": {
  "interpreter": {
   "hash": "b3ba2566441a7c06988d0923437866b63cedc61552a5af99d1f4fb67d367b25f"
  },
  "kernelspec": {
   "display_name": "Python 3.8.8 ('base')",
   "language": "python",
   "name": "python3"
  },
  "language_info": {
   "codemirror_mode": {
    "name": "ipython",
    "version": 3
   },
   "file_extension": ".py",
   "mimetype": "text/x-python",
   "name": "python",
   "nbconvert_exporter": "python",
   "pygments_lexer": "ipython3",
   "version": "3.8.8"
  },
  "orig_nbformat": 4
 },
 "nbformat": 4,
 "nbformat_minor": 2
}
