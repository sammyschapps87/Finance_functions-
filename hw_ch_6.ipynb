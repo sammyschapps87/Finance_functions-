{
 "cells": [
  {
   "cell_type": "markdown",
   "metadata": {},
   "source": [
    "\n",
    "## Question 1\n",
    "Mendez Company has identified an investment project with the following cash flows. \n",
    "Year\tCash Flow\n",
    "1\t$  470\n",
    "2\t610\n",
    "3\t735\n",
    "4\t920\n",
    " \n",
    "\n",
    "a.\tIf the discount rate is 10 percent, what is the present value of these cash flows? (Do not round intermediate calculations and round your answer to 2 decimal places, e.g., 32.16.)\n",
    "b.\tWhat is the present value at 18 percent? (Do not round intermediate calculations and round your answer to 2 decimal places, e.g., 32.16.)\n",
    "c.\tWhat is the present value at 24 percent? (Do not round intermediate calculations and round your answer to 2 decimal places, e.g., 32.16.)"
   ]
  },
  {
   "cell_type": "code",
   "execution_count": 1,
   "metadata": {},
   "outputs": [],
   "source": [
    "import numpy as np\n",
    "import numpy_financial as npf\n",
    "import pandas as pd\n",
    "import math \n",
    "from math import e\n"
   ]
  },
  {
   "cell_type": "markdown",
   "metadata": {},
   "source": [
    "### A) "
   ]
  },
  {
   "cell_type": "code",
   "execution_count": 2,
   "metadata": {},
   "outputs": [
    {
     "name": "stdout",
     "output_type": "stream",
     "text": [
      "the PV with 10 percent discount rate is: 2111.99\n"
     ]
    }
   ],
   "source": [
    "df = {'Year': [1,2,3,4], 'Cash_flow': [470, 610, 735, 920]}\n",
    "\n",
    "df = pd.DataFrame(df)\n",
    "\n",
    "df['discount_rate'] = 0.1, 0.1, 0.1, 0.1\n",
    "\n",
    "df['discount_factors'] = 1/(1 + df['discount_rate'])**df['Year']\n",
    "df['PV'] = df['Cash_flow']*df['discount_factors']\n",
    "pv_sum = round(df['PV'].sum(), 2)\n",
    "\n",
    "print(f'the PV with 10 percent discount rate is: {pv_sum}')\n"
   ]
  },
  {
   "cell_type": "markdown",
   "metadata": {},
   "source": [
    "## B)"
   ]
  },
  {
   "cell_type": "code",
   "execution_count": 3,
   "metadata": {},
   "outputs": [
    {
     "name": "stdout",
     "output_type": "stream",
     "text": [
      "the PV with 18 percent discount rate is: 1758.27\n"
     ]
    }
   ],
   "source": [
    "df = {'Year': [1,2,3,4], 'Cash_flow': [470, 610, 735, 920]}\n",
    "\n",
    "df = pd.DataFrame(df)\n",
    "\n",
    "df['discount_rate'] = 0.18, 0.18, 0.18, 0.18\n",
    "\n",
    "df['discount_factors'] = 1/(1 + df['discount_rate'])**df['Year']\n",
    "df['PV'] = df['Cash_flow']*df['discount_factors']\n",
    "pv_sum = round(df['PV'].sum(), 2)\n",
    "\n",
    "print(f'the PV with 18 percent discount rate is: {pv_sum}')"
   ]
  },
  {
   "cell_type": "markdown",
   "metadata": {},
   "source": [
    "### C)"
   ]
  },
  {
   "cell_type": "code",
   "execution_count": 4,
   "metadata": {},
   "outputs": [
    {
     "name": "stdout",
     "output_type": "stream",
     "text": [
      "the PV with 18 percent discount rate is: 1550.39\n"
     ]
    }
   ],
   "source": [
    "df = {'Year': [1,2,3,4], 'Cash_flow': [470, 610, 735, 920]}\n",
    "\n",
    "df = pd.DataFrame(df)\n",
    "\n",
    "df['discount_rate'] = 0.24, 0.24, 0.24, 0.24\n",
    "\n",
    "df['discount_factors'] = 1/(1 + df['discount_rate'])**df['Year']\n",
    "df['PV'] = df['Cash_flow']*df['discount_factors']\n",
    "pv_sum = round(df['PV'].sum(), 2)\n",
    "\n",
    "print(f'the PV with 18 percent discount rate is: {pv_sum}')"
   ]
  },
  {
   "cell_type": "markdown",
   "metadata": {},
   "source": [
    "## Question 2\n",
    "\n",
    "Christie, Incorporated, has identified an investment project with the following cash flows.\n",
    " \n",
    "\n",
    "Year\tCash Flow\n",
    "1\t$ 1,075\n",
    "2\t1,210\n",
    "3\t1,340\n",
    "4\t1,420\n",
    " \n",
    "\n",
    "a.\tIf the discount rate is 6 percent, what is the future value of the cash flows in Year 4? (Do not round intermediate calculations and round your answer to 2 decimal places, e.g., 32.16.)\n",
    "b.\tIf the discount rate is 13 percent, what is the future value of the cash flows in Year 4? (Do not round intermediate calculations and round your answer to 2 decimal places, e.g., 32.16.)\n",
    "c.\tIf the discount rate is 27 percent, what is the future value of the cash flows in Year 4? (Do not round intermediate calculations and round your answer to 2 decimal places, e.g., 32.16.)"
   ]
  },
  {
   "cell_type": "markdown",
   "metadata": {},
   "source": [
    "### A)"
   ]
  },
  {
   "cell_type": "code",
   "execution_count": 5,
   "metadata": {},
   "outputs": [
    {
     "name": "stdout",
     "output_type": "stream",
     "text": [
      "The future value at 6 % discount rate is: 5887.734723200001\n"
     ]
    }
   ],
   "source": [
    "df = {'year': [1,2,3,4], 'cash_flow': [1075, 1210, 1340, 1420], 'discount_rate': [0.06, 0.06, 0.06, 0.06]}\n",
    "df = pd.DataFrame(df)\n",
    "df['FV'] = df['cash_flow']*(1 + df['discount_rate'])**df['year'].sort_values(ascending=False)\n",
    "fv_sum = df['FV'].sum()\n",
    "\n",
    "print(f'The future value at 6 % discount rate is: {fv_sum}')\n",
    "\n"
   ]
  },
  {
   "cell_type": "markdown",
   "metadata": {},
   "source": [
    "### B)"
   ]
  },
  {
   "cell_type": "code",
   "execution_count": 6,
   "metadata": {},
   "outputs": [
    {
     "name": "stdout",
     "output_type": "stream",
     "text": [
      "The future value at 6 % discount rate is: 6202.26\n"
     ]
    }
   ],
   "source": [
    "df = {'year': [0,1,2,3], 'cash_flow': [1075, 1210, 1340, 1420], 'discount_rate': [0.13, 0.13, 0.13, 0.13]}\n",
    "df = pd.DataFrame(df)\n",
    "df['FV'] = df['cash_flow']*(1 + df['discount_rate'])**df['year']\n",
    "fv_sum = round(df['FV'].sum(), 2)\n",
    "\n",
    "print(f'The future value at 6 % discount rate is: {fv_sum}')"
   ]
  },
  {
   "cell_type": "markdown",
   "metadata": {},
   "source": [
    "### C)"
   ]
  },
  {
   "cell_type": "code",
   "execution_count": 7,
   "metadata": {},
   "outputs": [
    {
     "name": "stdout",
     "output_type": "stream",
     "text": [
      "The future value at 6 % discount rate is: 9755.75\n"
     ]
    }
   ],
   "source": [
    "df = {'year': [1,2,3,4], 'cash_flow': [1075, 1210, 1340, 1420], 'discount_rate': [0.27, 0.27, 0.27, 0.27]}\n",
    "df = pd.DataFrame(df)\n",
    "df['FV'] = df['cash_flow']*(1 + df['discount_rate'])**df['year']\n",
    "fv_sum = round(df['FV'].sum(), 2)\n",
    "\n",
    "print(f'The future value at 6 % discount rate is: {fv_sum}')"
   ]
  },
  {
   "cell_type": "markdown",
   "metadata": {},
   "source": [
    "## Question 3\n",
    "\n",
    "You plan to deposit $4,900 at the end of each of the next 20 years into an account paying 10.3 percent interest.\n",
    " \n",
    "\n",
    "a.\tHow much money will you have in the account in 20 years? (Do not round intermediate calculations and round your answer to 2 decimal places, e.g., 32.16.)\n",
    "b.\tHow much will you have if you make deposits for 40 years? (Do not round intermediate calculations and round your answer to 2 decimal places, e.g., 32.16.)\n",
    "  "
   ]
  },
  {
   "cell_type": "code",
   "execution_count": 8,
   "metadata": {},
   "outputs": [
    {
     "name": "stdout",
     "output_type": "stream",
     "text": [
      "290390.14366070455\n",
      "2353356.381226371\n",
      "290390.14\n",
      "2353356.38\n"
     ]
    }
   ],
   "source": [
    "# Easy Way \n",
    "print(npf.fv(0.103, 20, -4900, 0))\n",
    "print(npf.fv(0.103, 40, -4900, 0))\n",
    "\n",
    "# Hard way \n",
    "deposit = 4900\n",
    "r = 0.103\n",
    "n = 20\n",
    "n2 = n*2\n",
    "fv = deposit*((((1 + r)**n) -1)/r)\n",
    "fv_40 = deposit*((((1 + r)**n2) -1)/r)\n",
    "\n",
    "print(round(fv, 2))\n",
    "print(round(fv_40, 2))"
   ]
  },
  {
   "cell_type": "markdown",
   "metadata": {},
   "source": [
    "## Question 4\n",
    "\n",
    "The Maybe Pay Life Insurance Company is trying to sell you an investment policy that will pay you and your heirs $30,000 per year forever. If the required return on this investment is 5.6 percent, how much will you pay for the policy? (Do not round intermediate calculations and round your answer to 2 decimal places, e.g., 32.16.)"
   ]
  },
  {
   "cell_type": "code",
   "execution_count": 9,
   "metadata": {},
   "outputs": [
    {
     "data": {
      "text/plain": [
       "535714.29"
      ]
     },
     "execution_count": 9,
     "metadata": {},
     "output_type": "execute_result"
    }
   ],
   "source": [
    "cash_flow = 30000\n",
    "r = 0.056\n",
    "\n",
    "pv_of_cash_flow = cash_flow / r\n",
    "round(pv_of_cash_flow,2)"
   ]
  },
  {
   "cell_type": "markdown",
   "metadata": {},
   "source": [
    "## Question 5\n",
    "Find the EAR in each of the following cases (Use 365 days a year. Do not round intermediate calculations and enter your answers as a percent rounded to 2 decimal places, e.g., 32.16.):"
   ]
  },
  {
   "cell_type": "code",
   "execution_count": 13,
   "metadata": {},
   "outputs": [
    {
     "data": {
      "text/html": [
       "<div>\n",
       "<style scoped>\n",
       "    .dataframe tbody tr th:only-of-type {\n",
       "        vertical-align: middle;\n",
       "    }\n",
       "\n",
       "    .dataframe tbody tr th {\n",
       "        vertical-align: top;\n",
       "    }\n",
       "\n",
       "    .dataframe thead th {\n",
       "        text-align: right;\n",
       "    }\n",
       "</style>\n",
       "<table border=\"1\" class=\"dataframe\">\n",
       "  <thead>\n",
       "    <tr style=\"text-align: right;\">\n",
       "      <th></th>\n",
       "      <th>stated_rate</th>\n",
       "      <th>num_of_compounds</th>\n",
       "      <th>EAR</th>\n",
       "    </tr>\n",
       "  </thead>\n",
       "  <tbody>\n",
       "    <tr>\n",
       "      <th>0</th>\n",
       "      <td>0.078</td>\n",
       "      <td>4.000000</td>\n",
       "      <td>0.080311</td>\n",
       "    </tr>\n",
       "    <tr>\n",
       "      <th>1</th>\n",
       "      <td>0.153</td>\n",
       "      <td>12.000000</td>\n",
       "      <td>0.164198</td>\n",
       "    </tr>\n",
       "    <tr>\n",
       "      <th>2</th>\n",
       "      <td>0.124</td>\n",
       "      <td>365.000000</td>\n",
       "      <td>0.131992</td>\n",
       "    </tr>\n",
       "    <tr>\n",
       "      <th>3</th>\n",
       "      <td>0.114</td>\n",
       "      <td>2.718282</td>\n",
       "      <td>0.118149</td>\n",
       "    </tr>\n",
       "  </tbody>\n",
       "</table>\n",
       "</div>"
      ],
      "text/plain": [
       "   stated_rate  num_of_compounds       EAR\n",
       "0        0.078          4.000000  0.080311\n",
       "1        0.153         12.000000  0.164198\n",
       "2        0.124        365.000000  0.131992\n",
       "3        0.114          2.718282  0.118149"
      ]
     },
     "execution_count": 13,
     "metadata": {},
     "output_type": "execute_result"
    }
   ],
   "source": [
    "## Effective Annual Rate\n",
    "df = {'stated_rate': [0.078, 0.153, 0.124, 0.114], 'num_of_compounds': [4, 12, 365, math.e]}\n",
    "df = pd.DataFrame(df)\n",
    "\n",
    "df['EAR'] = (1 + (df['stated_rate']/df['num_of_compounds']))**df['num_of_compounds'] - 1\n",
    "df\n"
   ]
  },
  {
   "cell_type": "markdown",
   "metadata": {},
   "source": [
    "## Question 6\n",
    "\n",
    "Find the APR, or stated rate, in each of the following cases (Do not round intermediate calculations and enter your answers as a percent rounded to 2 decimal places, e.g., 32.16.):"
   ]
  },
  {
   "cell_type": "code",
   "execution_count": 23,
   "metadata": {},
   "outputs": [
    {
     "data": {
      "text/plain": [
       "0    13.73\n",
       "1    17.01\n",
       "2    10.54\n",
       "3     8.66\n",
       "Name: APR, dtype: float64"
      ]
     },
     "execution_count": 23,
     "metadata": {},
     "output_type": "execute_result"
    }
   ],
   "source": [
    "df = {'num_of_comp': [2, 12, 52, math.e], 'effective_rate': [0.142, 0.184, .111, .089]}\n",
    "df = pd.DataFrame(df)\n",
    "df['APR'] = (((1 + df['effective_rate'])**(1/df['num_of_comp'])) - 1)*df['num_of_comp']\n",
    "round(df['APR']*100, 2)"
   ]
  },
  {
   "cell_type": "markdown",
   "metadata": {},
   "source": [
    "## Question 7\n",
    "\n",
    "You want to buy a new sports coupe for $84,500, and the finance office at the dealership has quoted you an APR of 4.7 percent for a 60-month loan to buy the car.\n",
    " \n",
    "\n",
    "a.\tWhat will your monthly payments be? (Do not round intermediate calculations and round your answer to 2 decimal places, e.g., 32.16.)\n",
    "b.\tWhat is the effective annual rate on this loan? (Do not round intermediate calculations and enter your answer as a percent rounded to 2 decimal places, e.g., 32.16.)"
   ]
  },
  {
   "cell_type": "code",
   "execution_count": 24,
   "metadata": {},
   "outputs": [],
   "source": [
    "APR = 0.047\n",
    "n = 60\n",
    "loan = 84500\n",
    "monthly_rate = APR/12\n",
    "\n",
    "monthly_payment = loan/"
   ]
  },
  {
   "cell_type": "markdown",
   "metadata": {},
   "source": [
    "## Question 8 \n",
    "One of your customers is delinquent on his accounts payable balance. You’ve mutually agreed to a repayment schedule of $500 per month. You will charge 1.8 percent per month interest on the overdue balance.\n",
    "\n",
    " \n",
    "If the current balance is $18,000, how long will it take for the account to be paid off? (Do not round intermediate calculations and round your answer to 2 decimal places, e.g., 32.16.) "
   ]
  },
  {
   "cell_type": "code",
   "execution_count": 30,
   "metadata": {},
   "outputs": [
    {
     "data": {
      "text/plain": [
       "-59"
      ]
     },
     "execution_count": 30,
     "metadata": {},
     "output_type": "execute_result"
    }
   ],
   "source": [
    "payment = 500\n",
    "r = 0.018\n",
    "pv = 18000\n",
    "\n",
    "n = np.log(1 - pv*r/payment)/np.log(1 + r)\n",
    "round(n)"
   ]
  },
  {
   "cell_type": "markdown",
   "metadata": {},
   "source": [
    "## Question 9\n",
    "Friendly’s Quick Loans, Incorporated, offers you “three for four or I knock on your door.” This means you get $3 today and repay $4 when you get your paycheck in one week (or else).\n",
    " \n",
    "\n",
    "a.\tIf you were brave enough to ask, what APR would Friendly’s say you were paying? (Do not round intermediate calculations and enter your answer as a percent rounded to 2 decimal places, e.g., 32.16.)\n",
    "b.\tWhat’s the effective annual return Friendly’s earns on this lending business? (Do not round intermediate calculations and enter your answer as a percent rounded to 2 decimal places, e.g., 32.16.)"
   ]
  },
  {
   "cell_type": "code",
   "execution_count": 37,
   "metadata": {},
   "outputs": [
    {
     "data": {
      "text/plain": [
       "3139165.15690491"
      ]
     },
     "execution_count": 37,
     "metadata": {},
     "output_type": "execute_result"
    }
   ],
   "source": [
    "## FV = C(1 + r/m)^m(t)\n",
    "C = 3 \n",
    "fv = 4\n",
    "n = 1\n",
    "\n",
    "r = fv/C - 1\n",
    "APR_per_annum = r*52\n",
    "APR_per_annum\n",
    "\n",
    "EAR = (1 + APR_per_annum/52)**52 -1\n",
    "EAR"
   ]
  },
  {
   "cell_type": "markdown",
   "metadata": {},
   "source": [
    "## Question 10\n",
    "Beginning three months from now, you want to be able to withdraw $3,000 each quarter from your bank account to cover college expenses over the next four years. If the account pays .57 percent interest per quarter, how much do you need to have in your bank account today to meet your expense needs over the next four years? (Do not round intermediate calculations and round your answer to 2 decimal places, e.g., 32.16.)"
   ]
  },
  {
   "cell_type": "code",
   "execution_count": 41,
   "metadata": {},
   "outputs": [
    {
     "data": {
      "text/plain": [
       "45751.830231625565"
      ]
     },
     "execution_count": 41,
     "metadata": {},
     "output_type": "execute_result"
    }
   ],
   "source": [
    "withdraw = 3000\n",
    "n = 16\n",
    "r = 0.0057 \n",
    "pv =(withdraw*(1-(1/((1 + r)**n)))/r)\n",
    "pv\n"
   ]
  },
  {
   "cell_type": "markdown",
   "metadata": {},
   "source": [
    "## Question 11\n",
    "\n",
    "The appropriate discount rate for the following cash flows is 9.32 percent per year.\n",
    "\n",
    " \n",
    "\n",
    "Year\tCash Flow\n",
    "1\t$ 2,480\n",
    "2\t0\n",
    "3\t3,920\n",
    "4\t2,170\n",
    " \n",
    "\n",
    "What is the present value of the cash flows? (Do not round intermediate calculations and round your answer to 2 decimal places, e.g., 32.16.)"
   ]
  },
  {
   "cell_type": "code",
   "execution_count": 49,
   "metadata": {},
   "outputs": [
    {
     "data": {
      "text/plain": [
       "7421.0644795881835"
      ]
     },
     "execution_count": 49,
     "metadata": {},
     "output_type": "execute_result"
    }
   ],
   "source": [
    "df = {'year': [1,2,3,4], 'cash_flow': [2480, 0, 3920, 2170]}\n",
    "r = 0.0932\n",
    "df = pd.DataFrame(df)\n",
    "df\n",
    "\n",
    "npf.npv(r, [2480, 0, 3920, 2170])\n",
    "\n"
   ]
  },
  {
   "cell_type": "markdown",
   "metadata": {},
   "source": [
    "## Question 12 \n",
    "You have just won the lottery and will receive $1.8 million in one year. You will receive payments for 30 years, and the payments will increase 2.7 percent per year.\n",
    "\n",
    " \n",
    "If the appropriate discount rate is 5.4 percent, what is the present value of your winnings? (Do not round intermediate calculations and round your answer to 2 decimal places, e.g., 32.16.)"
   ]
  },
  {
   "cell_type": "code",
   "execution_count": 55,
   "metadata": {},
   "outputs": [
    {
     "name": "stdout",
     "output_type": "stream",
     "text": [
      "The Present Value equals 36060867.61\n"
     ]
    }
   ],
   "source": [
    "cash = 1800000\n",
    "n = 30\n",
    "dr = 0.054\n",
    "gr = 0.027\n",
    "\n",
    "pv = cash* ((1 - ((1+gr)**n)*(1+dr)**-n)/(dr-gr))\n",
    "\n",
    "print(f'The Present Value equals {round(pv, 2)}')"
   ]
  },
  {
   "cell_type": "markdown",
   "metadata": {},
   "source": [
    "## Question 13\n",
    "\n",
    "You need a 30-year, fixed-rate mortgage to buy a new home for $245,000. Your mortgage bank will lend you the money at an APR of 4.8 percent for this 360-month loan. However, you can afford monthly payments of only $900, so you offer to pay off any remaining loan balance at the end of the loan in the form of a single balloon payment.\n",
    "\n",
    " \n",
    "How large will this balloon payment have to be for you to keep your monthly payments at $900? (Do not round intermediate calculations and round your answer to 2 decimal places, e.g., 32.16.)"
   ]
  },
  {
   "cell_type": "code",
   "execution_count": 68,
   "metadata": {},
   "outputs": [
    {
     "name": "stdout",
     "output_type": "stream",
     "text": [
      "present value equals 171537.91\n",
      "The remaining amount yet to be paid is 73462.09\n",
      "The baloon payment is 309171.8\n"
     ]
    }
   ],
   "source": [
    "n = 360\n",
    "loan = 245000\n",
    "APR = 0.048\n",
    "pmt = 900\n",
    "r = APR/12\n",
    "\n",
    "pv = pmt / r * (1 - (1/(1+r)**n))\n",
    "\n",
    "print(f'present value equals {round(pv, 2)}')\n",
    "\n",
    "remaining_pv = loan - pv\n",
    "\n",
    "print(f'The remaining amount yet to be paid is {round(remaining_pv, 2)}')\n",
    "\n",
    "baloon_payment = remaining_pv * (1 + r)**n\n",
    "\n",
    "print(f'The baloon payment is {round(baloon_payment, 2)}')\n"
   ]
  },
  {
   "cell_type": "markdown",
   "metadata": {},
   "source": [
    "## Question 15\n",
    "You are serving on a jury. A plaintiff is suing the city for injuries sustained after a freak street sweeper accident. In the trial, doctors testified that it will be five years before the plaintiff is able to return to work. The jury has already decided in favor of the plaintiff. You are the foreperson of the jury and propose that the jury give the plaintiff an award to cover the following: (a) The present value of two years’ back pay. The plaintiff’s annual salary for the last two years would have been $43,000 and $46,000, respectively. (b) The present value of five years’ future salary. You assume the salary will be $51,000 per year. (c) $150,000 for pain and suffering. (d) $20,000 for court costs.\n",
    " \n",
    "Assume that the salary payments are equal amounts paid at the end of each month. If the interest rate you choose is an EAR of 5.9 percent, what is the size of the settlement? (Do not round intermediate calculations and round your answer to 2 decimal places, e.g., 32.16.)"
   ]
  },
  {
   "cell_type": "code",
   "execution_count": 78,
   "metadata": {},
   "outputs": [
    {
     "data": {
      "text/plain": [
       "400935.9"
      ]
     },
     "execution_count": 78,
     "metadata": {},
     "output_type": "execute_result"
    }
   ],
   "source": [
    "EAR = 0.059\n",
    "m = 12\n",
    "APR = 0.08648788\n",
    "\n",
    "salary1 = 43000\n",
    "\n",
    "salary2 = 46000\n",
    "\n",
    "year = 1\n",
    "\n",
    "fv = npf.fv(APR/m, m, -salary1/m, 0)\n",
    "pv = npf.pv(APR/m, 60, -salary2/m)\n",
    "cash_payment_today = 150000 + 20000\n",
    "\n",
    "size_of_settlement = fv + pv + cash_payment_today\n",
    "\n",
    "round(size_of_settlement, 2)\n"
   ]
  },
  {
   "cell_type": "code",
   "execution_count": 89,
   "metadata": {},
   "outputs": [
    {
     "data": {
      "text/plain": [
       "1105991.38"
      ]
     },
     "execution_count": 89,
     "metadata": {},
     "output_type": "execute_result"
    }
   ],
   "source": [
    "r = 0.053/12\n",
    "monthly_payments = npf.pmt(r, 360, -2550000)\n",
    "\n",
    "baloon_payment = npf.pv(r, 96, -monthly_payments)\n",
    "\n",
    "round(baloon_payment, 2)\n",
    "\n"
   ]
  },
  {
   "cell_type": "code",
   "execution_count": null,
   "metadata": {},
   "outputs": [],
   "source": []
  }
 ],
 "metadata": {
  "interpreter": {
   "hash": "b3ba2566441a7c06988d0923437866b63cedc61552a5af99d1f4fb67d367b25f"
  },
  "kernelspec": {
   "display_name": "Python 3.8.8 ('base')",
   "language": "python",
   "name": "python3"
  },
  "language_info": {
   "codemirror_mode": {
    "name": "ipython",
    "version": 3
   },
   "file_extension": ".py",
   "mimetype": "text/x-python",
   "name": "python",
   "nbconvert_exporter": "python",
   "pygments_lexer": "ipython3",
   "version": "3.8.8"
  },
  "orig_nbformat": 4
 },
 "nbformat": 4,
 "nbformat_minor": 2
}
