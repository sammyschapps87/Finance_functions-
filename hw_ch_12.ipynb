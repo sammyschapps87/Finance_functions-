{
 "cells": [
  {
   "cell_type": "markdown",
   "metadata": {},
   "source": [
    "## Question 1\n",
    "\n",
    "What are the portfolio weights for a portfolio that has 145 shares of Stock A that sell for $47 per share and 200 shares of Stock B that sell for $21 per share? (Do not round intermediate calculations and round your answers to 4 decimal places, e.g., .1616.)"
   ]
  },
  {
   "cell_type": "code",
   "execution_count": 7,
   "metadata": {},
   "outputs": [
    {
     "name": "stdout",
     "output_type": "stream",
     "text": [
      "61.8702\n",
      "38.1298\n"
     ]
    }
   ],
   "source": [
    "shares_A = 145\n",
    "price_A = 47\n",
    "shares_B = 200\n",
    "price_B = 21\n",
    "\n",
    "value_A = shares_A * price_A\n",
    "\n",
    "value_B = shares_B * price_B\n",
    "\n",
    "total_value = value_A + value_B\n",
    "\n",
    "weight_A = value_A / total_value\n",
    "weight_B = value_B / total_value\n",
    "\n",
    "print(round(weight_A * 100, 4))\n",
    "print(round(weight_B * 100, 4))"
   ]
  },
  {
   "cell_type": "markdown",
   "metadata": {},
   "source": [
    "## Question 2\n",
    "\n",
    "Consider the following information:  \n",
    "State of Economy\tProbability of State of Economy\tRate of Return if State Occurs\n",
    "Stock A\tStock B\n",
    "Recession\t.15\t.04\t−.17\n",
    "Normal\t.55\t.09\t.12\n",
    "Boom\t.30\t.17\t.27  \n",
    "a.\t\n",
    "Calculate the expected return for Stocks A and B. (Do not round intermediate calculations and enter your answers as a percent rounded to 2 decimal places, e.g., 32.16.)\n",
    "\n",
    "b.\tCalculate the standard deviation for Stocks A and B. (Do not round intermediate calculations and enter your answers as a percent rounded to 2 decimal places, e.g., 32.16.)"
   ]
  },
  {
   "cell_type": "code",
   "execution_count": null,
   "metadata": {},
   "outputs": [],
   "source": []
  }
 ],
 "metadata": {
  "interpreter": {
   "hash": "b3ba2566441a7c06988d0923437866b63cedc61552a5af99d1f4fb67d367b25f"
  },
  "kernelspec": {
   "display_name": "Python 3.8.8 ('base')",
   "language": "python",
   "name": "python3"
  },
  "language_info": {
   "codemirror_mode": {
    "name": "ipython",
    "version": 3
   },
   "file_extension": ".py",
   "mimetype": "text/x-python",
   "name": "python",
   "nbconvert_exporter": "python",
   "pygments_lexer": "ipython3",
   "version": "3.8.8"
  },
  "orig_nbformat": 4
 },
 "nbformat": 4,
 "nbformat_minor": 2
}
