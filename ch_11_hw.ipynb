{
 "cells": [
  {
   "cell_type": "code",
   "execution_count": 15,
   "metadata": {},
   "outputs": [],
   "source": [
    "import numpy_financial as npf"
   ]
  },
  {
   "cell_type": "markdown",
   "metadata": {},
   "source": [
    "## Question 2"
   ]
  },
  {
   "cell_type": "markdown",
   "metadata": {},
   "source": [
    "We are evaluating a project that costs $845,000, has an eight-year life, and has no salvage value. Assume that depreciation is straight-line to zero over the life of the project. Sales are projected at 51,000 units per year. Price per unit is $53, variable cost per unit is $27, and fixed costs are $950,000 per year. The tax rate is 22 percent, and we require a return of 10 percent on this project. \n",
    "a-1.\tCalculate the accounting break-even point. (Do not round intermediate calculations and round your answer to the nearest whole number, e.g., 32.)\n",
    "a-2.\tWhat is the degree of operating leverage at the accounting break-even point? (Do not round intermediate calculations and round your answer to 3 decimal places, e.g., 32.161.)\n",
    "b-1.\tCalculate the base-case cash flow and NPV. (Do not round intermediate calculations. Round your cash flow answer to the nearest whole number, e.g., 32. Round your NPV answer to 2 decimal places, e.g., 32.16.)\n",
    "b-2.\tWhat is the sensitivity of NPV to changes in the quantity sold? (Do not round intermediate calculations and round your answer to 2 decimal places, e.g., 32.16.)\n",
    "c.\tWhat is the sensitivity of OCF to changes in the variable cost figure? (A negative answer should be indicated by a minus sign. Do not round intermediate calculations.)"
   ]
  },
  {
   "cell_type": "code",
   "execution_count": 35,
   "metadata": {},
   "outputs": [
    {
     "name": "stdout",
     "output_type": "stream",
     "text": [
      "the account break even point is: 40600.96\n",
      "the DOL is 949324.0\n",
      "the NPV is 843597.5\n",
      "843705.6951479518\n",
      "the change in NPV is -108.19\n"
     ]
    }
   ],
   "source": [
    "cost = 845000\n",
    "n = 8\n",
    "salvage_value = 0\n",
    "sales = 51000\n",
    "price_per_unit = 27\n",
    "varible_cost_per_unit = 53\n",
    "fixed_costs = 950000\n",
    "tr = 0.22\n",
    "rr = .1\n",
    "\n",
    "##a_1\n",
    "dep = cost / n\n",
    "con_margin_per_uni = varible_cost_per_unit - price_per_unit\n",
    "acc_break_point = (fixed_costs + dep) / con_margin_per_uni\n",
    "print(f'the account break even point is: {round(acc_break_point, 2)}')\n",
    "\n",
    "## a2\n",
    "degree_of_operating_leverage = acc_break_point*(price_per_unit - varible_cost_per_unit) / acc_break_point*(price_per_unit - varible_cost_per_unit) - fixed_costs\n",
    "print(f'the DOL is {abs(round(degree_of_operating_leverage, 2))}')\n",
    "\n",
    "## b1\n",
    "base_cf = ((sales* con_margin_per_uni) - fixed_costs - dep) * (1 - tr) + dep\n",
    "pv_cif = npf.pv(rr, n, -base_cf, 0)\n",
    "\n",
    "first_NPV = pv_cif - cost\n",
    "\n",
    "print(f'the NPV is {round(first_NPV, 2)}')\n",
    "\n",
    "\n",
    "## b2\n",
    "new_sales = 51001\n",
    "base_cf_2 = (((new_sales* con_margin_per_uni) - fixed_costs - dep) * (1 - tr)) + dep\n",
    "\n",
    "present_value_cash_inflow = npf.pv(rr, n, -base_cf_2, 0)\n",
    "\n",
    "NPV = present_value_cash_inflow - cost\n",
    "print(NPV)\n",
    "change_in_NVP = first_NPV - NPV\n",
    "print(f'the change in NPV is {round(change_in_NVP, 2)}')\n",
    "\n"
   ]
  },
  {
   "cell_type": "markdown",
   "metadata": {},
   "source": [
    "## Question 3\n",
    "At an output level of 40,000 units, you calculate that the degree of operating leverage is 3.19. If the output rises to 44,000 units, what will the percentage change in operating cash flow be? (Do not round intermediate calculations and enter your answer as a percent rounded to 2 decimal places, e.g., 32.16.)"
   ]
  },
  {
   "cell_type": "code",
   "execution_count": 46,
   "metadata": {},
   "outputs": [
    {
     "name": "stdout",
     "output_type": "stream",
     "text": [
      "0.319\n"
     ]
    }
   ],
   "source": [
    "output = 40000\n",
    "degree_operating_leverage = 3.19\n",
    "new_output = 44000\n",
    "\n",
    "perc_change_sales = (new_output - output) / output\n",
    "\n",
    "\n",
    "print(3.19 * .1)\n"
   ]
  },
  {
   "cell_type": "markdown",
   "metadata": {},
   "source": [
    "## Question 4\n",
    "Consider a four-year project with the following information: Initial fixed asset investment = $655,000; straight-line depreciation to zero over the four-year life; zero salvage value; price = $28; variable costs = $16; fixed costs = $245,000; quantity sold = 61,000 units; tax rate = 21 percent.\n",
    "\n",
    " \n",
    "How sensitive is OCF to changes in quantity sold? (Do not round intermediate calculations and round your answer to 2 decimal places, e.g., 32.16.)"
   ]
  },
  {
   "cell_type": "code",
   "execution_count": null,
   "metadata": {},
   "outputs": [],
   "source": []
  }
 ],
 "metadata": {
  "interpreter": {
   "hash": "b3ba2566441a7c06988d0923437866b63cedc61552a5af99d1f4fb67d367b25f"
  },
  "kernelspec": {
   "display_name": "Python 3.8.8 ('base')",
   "language": "python",
   "name": "python3"
  },
  "language_info": {
   "codemirror_mode": {
    "name": "ipython",
    "version": 3
   },
   "file_extension": ".py",
   "mimetype": "text/x-python",
   "name": "python",
   "nbconvert_exporter": "python",
   "pygments_lexer": "ipython3",
   "version": "3.8.8"
  },
  "orig_nbformat": 4
 },
 "nbformat": 4,
 "nbformat_minor": 2
}
