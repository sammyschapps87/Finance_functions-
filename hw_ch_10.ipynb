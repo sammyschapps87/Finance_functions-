{
 "cells": [
  {
   "cell_type": "code",
   "execution_count": 7,
   "metadata": {},
   "outputs": [],
   "source": [
    "import pandas as pd"
   ]
  },
  {
   "cell_type": "markdown",
   "metadata": {},
   "source": [
    "## Question 1\n",
    "Parker & Stone, Incorporated, is looking at setting up a new manufacturing plant in South Park to produce garden tools. The company bought some land six years ago for $2.8 million in anticipation of using it as a warehouse and distribution site, but the company has since decided to rent these facilities from a competitor instead. If the land were sold today, the company would net $3.2 million. The company wants to build its new manufacturing plant on this land; the plant will cost $14.3 million to build, and the site requires $825,000 worth of grading before it is suitable for construction. What is the proper cash flow amount to use as the initial investment in fixed assets when evaluating this project? (Do not round intermediate calculations and enter your answer in dollars, not millions of dollars, e.g., 1,234,567.)"
   ]
  },
  {
   "cell_type": "code",
   "execution_count": 3,
   "metadata": {},
   "outputs": [
    {
     "name": "stdout",
     "output_type": "stream",
     "text": [
      "18325000\n"
     ]
    }
   ],
   "source": [
    "purchase = 2800000\n",
    "n = 6\n",
    "net = 3200000\n",
    "new_plant = 14300000\n",
    "grading = 825000\n",
    "\n",
    "cash_flow = net + new_plant + grading\n",
    "\n",
    "print(round(cash_flow, 2))"
   ]
  },
  {
   "cell_type": "markdown",
   "metadata": {},
   "source": [
    "## Question 2\n",
    "\n",
    "A proposed new investment has projected sales of $515,000. Variable costs are 36 percent of sales, and fixed costs are $173,000; depreciation is $46,000. Prepare a pro forma income statement assuming a tax rate of 21 percent. What is the projected net income? (Do not round intermediate calculations.)\n"
   ]
  },
  {
   "cell_type": "code",
   "execution_count": 24,
   "metadata": {},
   "outputs": [
    {
     "data": {
      "text/html": [
       "<div>\n",
       "<style scoped>\n",
       "    .dataframe tbody tr th:only-of-type {\n",
       "        vertical-align: middle;\n",
       "    }\n",
       "\n",
       "    .dataframe tbody tr th {\n",
       "        vertical-align: top;\n",
       "    }\n",
       "\n",
       "    .dataframe thead th {\n",
       "        text-align: right;\n",
       "    }\n",
       "</style>\n",
       "<table border=\"1\" class=\"dataframe\">\n",
       "  <thead>\n",
       "    <tr style=\"text-align: right;\">\n",
       "      <th></th>\n",
       "      <th>sales</th>\n",
       "      <th>fixed_costs</th>\n",
       "      <th>depreciation</th>\n",
       "      <th>varible_costs</th>\n",
       "      <th>EBT</th>\n",
       "      <th>taxes</th>\n",
       "      <th>net_income</th>\n",
       "    </tr>\n",
       "  </thead>\n",
       "  <tbody>\n",
       "    <tr>\n",
       "      <th>0</th>\n",
       "      <td>515000</td>\n",
       "      <td>173000</td>\n",
       "      <td>46000</td>\n",
       "      <td>185400.0</td>\n",
       "      <td>110600.0</td>\n",
       "      <td>23226.0</td>\n",
       "      <td>87374.0</td>\n",
       "    </tr>\n",
       "  </tbody>\n",
       "</table>\n",
       "</div>"
      ],
      "text/plain": [
       "    sales  fixed_costs  depreciation  varible_costs       EBT    taxes  \\\n",
       "0  515000       173000         46000       185400.0  110600.0  23226.0   \n",
       "\n",
       "   net_income  \n",
       "0     87374.0  "
      ]
     },
     "execution_count": 24,
     "metadata": {},
     "output_type": "execute_result"
    }
   ],
   "source": [
    "df = {\"sales\" : 515000, \"fixed_costs\" : 173000, \"depreciation\" : 46000}\n",
    "df = pd.DataFrame(df, index=[0])\n",
    "\n",
    "df['varible_costs'] = df['sales'] * .36\n",
    "df['EBT'] = df['sales'] - df['varible_costs'] - df['fixed_costs'] - df['depreciation']\n",
    "df['taxes'] = df['EBT'] * .21\n",
    "df['net_income'] = df['EBT'] - df['taxes']\n",
    "\n",
    "df"
   ]
  },
  {
   "cell_type": "markdown",
   "metadata": {},
   "source": [
    "## Question 3\n",
    "Fill in the missing numbers for the following income statement. (Do not round intermediate calculations.)\n",
    "\n",
    " \n",
    "\n",
    " \n",
    "a.\tCalculate the OCF. (Do not round intermediate calculations.)\n",
    "b.\tWhat is the depreciation tax shield? (Do not round intermediate calculations.)"
   ]
  },
  {
   "cell_type": "code",
   "execution_count": 34,
   "metadata": {},
   "outputs": [
    {
     "data": {
      "text/html": [
       "<div>\n",
       "<style scoped>\n",
       "    .dataframe tbody tr th:only-of-type {\n",
       "        vertical-align: middle;\n",
       "    }\n",
       "\n",
       "    .dataframe tbody tr th {\n",
       "        vertical-align: top;\n",
       "    }\n",
       "\n",
       "    .dataframe thead th {\n",
       "        text-align: right;\n",
       "    }\n",
       "</style>\n",
       "<table border=\"1\" class=\"dataframe\">\n",
       "  <thead>\n",
       "    <tr style=\"text-align: right;\">\n",
       "      <th></th>\n",
       "      <th>sales</th>\n",
       "      <th>costs</th>\n",
       "      <th>depreciation</th>\n",
       "      <th>EBT</th>\n",
       "      <th>taxes</th>\n",
       "      <th>net_income</th>\n",
       "      <th>OCF</th>\n",
       "      <th>tax_shield</th>\n",
       "    </tr>\n",
       "  </thead>\n",
       "  <tbody>\n",
       "    <tr>\n",
       "      <th>0</th>\n",
       "      <td>704600</td>\n",
       "      <td>527300</td>\n",
       "      <td>82100</td>\n",
       "      <td>95200</td>\n",
       "      <td>20944.0</td>\n",
       "      <td>74256.0</td>\n",
       "      <td>156356.0</td>\n",
       "      <td>18062.0</td>\n",
       "    </tr>\n",
       "  </tbody>\n",
       "</table>\n",
       "</div>"
      ],
      "text/plain": [
       "    sales   costs  depreciation    EBT    taxes  net_income       OCF  \\\n",
       "0  704600  527300         82100  95200  20944.0     74256.0  156356.0   \n",
       "\n",
       "   tax_shield  \n",
       "0     18062.0  "
      ]
     },
     "execution_count": 34,
     "metadata": {},
     "output_type": "execute_result"
    }
   ],
   "source": [
    "df = {\"sales\" : 704600, \"costs\" : 527300, \"depreciation\" : 82100}\n",
    "df['EBT'] = df['sales'] - df['costs'] - df['depreciation']\n",
    "df['taxes'] = df['EBT'] * .22\n",
    "df['net_income'] = df['EBT'] - df['taxes']\n",
    "\n",
    "df['OCF'] = df['net_income'] + df['depreciation']\n",
    "df['tax_shield'] = df['depreciation'] * .22\n",
    "\n",
    "pd.DataFrame(df, index= [0])"
   ]
  },
  {
   "cell_type": "markdown",
   "metadata": {},
   "source": [
    "## Question 4\n",
    "A piece of newly purchased industrial equipment costs $1.475 million and is classified as seven-year property under MACRS. The MACRS depreciation schedule is shown in Table 10.7. Calculate the annual depreciation allowances and end-of-the-year book values for this equipment. (Leave no cells blank - be certain to enter \"0\" wherever required. Do not round intermediate calculations and enter your answers in dollars, not millions of dollars, rounded to 2 decimal places e.g., 1,234,567.89.)"
   ]
  },
  {
   "cell_type": "markdown",
   "metadata": {},
   "source": [
    "## Question 5\n",
    "\n",
    "An asset used in a four-year project falls in the five-year MACRS class for tax purposes. The asset has an acquisition cost of $5.7 million and will be sold for $1.8 million at the end of the project. If the tax rate is 21 percent, what is the aftertax salvage value of the asset? Refer to Table 10.7. (Do not round intermediate calculations and enter your answer in dollars, not millions of dollars, rounded to the nearest whole number, e.g., 1,234,567.)"
   ]
  },
  {
   "cell_type": "code",
   "execution_count": 38,
   "metadata": {},
   "outputs": [
    {
     "name": "stdout",
     "output_type": "stream",
     "text": [
      "1628841.6\n"
     ]
    }
   ],
   "source": [
    "asset = 5700000\n",
    "sale = 1800000\n",
    "tr = .21\n",
    "\n",
    "book_val_4_year = asset * (0.0576 + 0.1152)\n",
    "\n",
    "gain_on_sale = sale - book_val_4_year\n",
    "\n",
    "tax_on_gain = gain_on_sale * .21\n",
    "\n",
    "after_tax_val = sale - tax_on_gain\n",
    "\n",
    "print(round(after_tax_val,2))"
   ]
  },
  {
   "cell_type": "markdown",
   "metadata": {},
   "source": [
    "## Quesiton 6\n",
    "\n",
    "\n",
    "Esfandairi Enterprises is considering a new three-year expansion project that requires an initial fixed asset investment of $2.18 million. The fixed asset will be depreciated straight-line to zero over its three-year tax life, after which time it will be worthless. The project is estimated to generate $1.645 million in annual sales, with costs of $610,000. The project requires an initial investment in net working capital of $250,000, and the fixed asset will have a market value of $180,000 at the end of the project. The tax rate is 21 percent.\n",
    "\n",
    " \n",
    "\n",
    "a.\tWhat is the project’s Year 0 net cash flow? Year 1? Year 2? Year 3? (A negative answer should be indicated by a minus sign. Do not round intermediate calculations and enter your answers in dollars, not millions of dollars, e.g., 1,234,567.)\n",
    "b.\tIf the required return is 12 percent, what is the project's NPV? (Do not round intermediate calculations and round your answer to 2 decimal places, e.g., 32.16.)"
   ]
  },
  {
   "cell_type": "code",
   "execution_count": 40,
   "metadata": {},
   "outputs": [
    {
     "name": "stdout",
     "output_type": "stream",
     "text": [
      "970250.0\n"
     ]
    }
   ],
   "source": [
    "investment = 2180000\n",
    "n = 3\n",
    "sales = 1645000\n",
    "costs = 610000\n",
    "net_working_cap = 250000\n",
    "fixed_asset = 180000\n",
    "tr = .21\n",
    "\n",
    "annual_dep = investment / n\n",
    "\n",
    "ocf = (sales - costs - annual_dep) * (1 - tr) + annual_dep\n",
    "\n",
    "print(round(ocf, 2))\n"
   ]
  },
  {
   "cell_type": "markdown",
   "metadata": {},
   "source": [
    "## Quesiton 8\n",
    "Your firm is contemplating the purchase of a new $535,000 computer-based order entry system. The system will be depreciated straight-line to zero over its five-year life. It will be worth $30,000 at the end of that time. You will be able to reduce working capital by $60,000 (this is a one-time reduction). The tax rate is 24 percent and the required return on the project is 11 percent.\n",
    "\n",
    " \n",
    "If the pretax cost savings are $150,000 per year, what is the NPV of this project? (A negative answer should be indicated by a minus sign. Do not round intermediate calculations and round your answer to 2 decimal places, e.g., 32.16.)\n",
    "\n",
    "\n",
    " \n",
    "\n",
    "Will you accept or reject the project?\n",
    "multiple choice 1\n",
    "Reject\n",
    "Accept\n",
    "\n",
    " \n",
    "If the pretax cost savings are $100,000 per year, what is the NPV of this project? (A negative answer should be indicated by a minus sign. Do not round intermediate calculations and round your answer to 2 decimal places, e.g., 32.16.)\n",
    "\n",
    " \n",
    "Will you accept or reject the project?\n",
    "\n",
    "multiple choice 2\n",
    "Accept\n",
    "Reject\n",
    "\n",
    " \n",
    "\n",
    "At what level of pretax cost savings would you be indifferent between accepting the project and not accepting it? (Do not round intermediate calculations and round your answer to 2 decimal places, e.g., 32.16.)\n",
    "\n"
   ]
  },
  {
   "cell_type": "markdown",
   "metadata": {},
   "source": [
    "## Question 9 \n",
    "You are evaluating two different silicon wafer milling machines. The Techron I costs $265,000, has a three-year life, and has pretax operating costs of $74,000 per year. The Techron II costs $445,000, has a five-year life, and has pretax operating costs of $47,000 per year. For both milling machines, use straight-line depreciation to zero over the project’s life and assume a salvage value of $35,000. If your tax rate is 22 percent and your discount rate is 10 percent, compute the EAC for both machines. (A negative answer should be indicated by a minus sign. Do not round intermediate calculations and round your answers to 2 decimal places, e.g., 32.16.)\n",
    "\n"
   ]
  },
  {
   "cell_type": "code",
   "execution_count": 56,
   "metadata": {},
   "outputs": [
    {
     "data": {
      "text/plain": [
       "-136599.35548841883"
      ]
     },
     "execution_count": 56,
     "metadata": {},
     "output_type": "execute_result"
    }
   ],
   "source": [
    "costs = 265000\n",
    "res_val = 0 \n",
    "n = 3\n",
    "pre_tax_op_cost = 74000\n",
    "tr = .22\n",
    "dr = .1\n",
    "salvage_val = 35000\n",
    "\n",
    "## Tachron I\n",
    "dep = (costs - res_val) / n\n",
    "\n",
    "ocf = -pre_tax_op_cost * (1 - tr) + (tr * dep)\n",
    "\n",
    "inflow = salvage_val * (1 - tr)\n",
    "\n",
    "pv_of_inflow = inflow / (1 + dr)**3\n",
    "\n",
    "pv_of_inflow\n",
    "\n",
    "s = (1/1.1+1/1.1**2+1/1.1**3)\n",
    "\n",
    "pv_of_outflow = costs + (abs(ocf)) * s\n",
    "\n",
    "pv_of_outflow\n",
    "\n",
    "npv = pv_of_inflow - pv_of_outflow\n",
    "\n",
    "eac = (npv * dr) / (1 - (1+dr)**-3)\n",
    "eac\n",
    "\n"
   ]
  },
  {
   "cell_type": "markdown",
   "metadata": {},
   "source": [
    "## Question 10\n",
    "\n",
    "Rust Industrial Systems Company is trying to decide between two different conveyor belt systems. System A costs $295,000, has a four-year life, and requires $77,000 in pretax annual operating costs. System B costs $355,000, has a six-year life, and requires $83,000 in pretax annual operating costs. Both systems are to be depreciated straight-line to zero over their lives and will have zero salvage value. Whichever project is chosen, it will not be replaced when it wears out. The tax rate is 21 percent and the discount rate is 8 percent.\n",
    "\n",
    " \n",
    "Calculate the NPV for both conveyor belt systems. (A negative answer should be indicated by a minus sign. Do not round intermediate calculations and round your answers to 2 decimal places, e.g., 32.16.)"
   ]
  },
  {
   "cell_type": "code",
   "execution_count": null,
   "metadata": {},
   "outputs": [],
   "source": []
  },
  {
   "cell_type": "code",
   "execution_count": null,
   "metadata": {},
   "outputs": [],
   "source": []
  }
 ],
 "metadata": {
  "interpreter": {
   "hash": "b3ba2566441a7c06988d0923437866b63cedc61552a5af99d1f4fb67d367b25f"
  },
  "kernelspec": {
   "display_name": "Python 3.8.8 ('base')",
   "language": "python",
   "name": "python3"
  },
  "language_info": {
   "codemirror_mode": {
    "name": "ipython",
    "version": 3
   },
   "file_extension": ".py",
   "mimetype": "text/x-python",
   "name": "python",
   "nbconvert_exporter": "python",
   "pygments_lexer": "ipython3",
   "version": "3.8.8"
  },
  "orig_nbformat": 4
 },
 "nbformat": 4,
 "nbformat_minor": 2
}
