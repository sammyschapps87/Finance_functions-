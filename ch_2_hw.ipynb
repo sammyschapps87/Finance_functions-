{
 "cells": [
  {
   "cell_type": "markdown",
   "metadata": {},
   "source": [
    "## Question 1\n",
    "Bing, Incorporated, has current assets of $5,400, net fixed assets of $28,100, current liabilities of $4,100, and long-term debt of $10,600.\n",
    "\n",
    " \n",
    "\n",
    "a.\t\n",
    "What is the value of the shareholders’ equity account for this firm? (Do not round intermediate calculations.)\n",
    "\n",
    "b.\tHow much is net working capital? (Do not round intermediate calculations.)\n"
   ]
  },
  {
   "cell_type": "code",
   "execution_count": 4,
   "metadata": {},
   "outputs": [
    {
     "name": "stdout",
     "output_type": "stream",
     "text": [
      "18800\n",
      "1300\n"
     ]
    }
   ],
   "source": [
    "current_assets = 5400\n",
    "net_fixed_assets = 28100\n",
    "current_liabilities = 4100\n",
    "long_term_debt = 10600\n",
    "\n",
    "total_assets = current_assets + net_fixed_assets\n",
    "\n",
    "\n",
    "owners_equity = total_assets - long_term_debt - current_liabilities\n",
    "\n",
    "\n",
    "net_working_captial = current_assets - current_liabilities\n",
    "\n",
    "print(owners_equity)\n",
    "print(net_working_captial)"
   ]
  },
  {
   "cell_type": "markdown",
   "metadata": {},
   "source": [
    "## Question 2\n",
    "\n"
   ]
  },
  {
   "cell_type": "code",
   "execution_count": null,
   "metadata": {},
   "outputs": [],
   "source": [
    "\n",
    "\n",
    "\n",
    "net_income  "
   ]
  },
  {
   "cell_type": "markdown",
   "metadata": {},
   "source": [
    "## Question 13\n",
    "\n",
    "\n",
    "Nightwish Corporation shows the following information on its 2021 income statement: Sales = $336,000; Costs = $194,700; Other expenses = $9,800; Depreciation expense = $20,600; Interest expense = $14,200; Taxes = $21,275; Dividends = $21,450. In addition, you’re told that the firm issued $7,100 in new equity during 2021 and redeemed $5,400 in outstanding long-term debt.\n",
    "\n",
    " \n",
    "\n",
    "a.\t\n",
    "What is the 2021 operating cash flow? (Do not round intermediate calculations.)\n",
    "\n",
    "b.\tWhat is the 2021 cash flow to creditors? (Do not round intermediate calculations.)\n",
    "\n",
    "c.\tWhat is the 2021 cash flow to stockholders? (Do not round intermediate calculations.)\n",
    "\n",
    "d.\tIf net fixed assets increased by $53,200 during the year, what was the addition to NWC? (Do not round intermediate calculations.)"
   ]
  },
  {
   "cell_type": "code",
   "execution_count": 16,
   "metadata": {},
   "outputs": [
    {
     "name": "stdout",
     "output_type": "stream",
     "text": [
      "the cash flow from assets is: 33950\n",
      "the net captial speading is: 73800\n",
      "The Addition to the NWC is: 2475\n"
     ]
    }
   ],
   "source": [
    "\n",
    "sales = 336000\n",
    "costs = 194700\n",
    "other_costs = 9800\n",
    "depreciation = 20600\n",
    "taxes = 21275\n",
    "increase = 53200\n",
    "intrest = 14200\n",
    "net_new_borrowing = -5400\n",
    "dividend = 21450\n",
    "net_new_equity = 7100\n",
    "\n",
    "EBIT = sales - costs - other_costs - depreciation\n",
    "\n",
    "## a) \n",
    "## Operating Cash Flow \n",
    "ocf = EBIT + depreciation - taxes\n",
    "\n",
    "## b) \n",
    "## Cash flow to Creditor\n",
    "cfc = intrest - net_new_borrowing\n",
    "\n",
    "## c) \n",
    "## Cash flow to stock holder \n",
    "cfsh = dividend - net_new_equity\n",
    "\n",
    "## d) \n",
    "## addition to NWC function \n",
    "def addition_to_nwc(increase):\n",
    "\n",
    "    cash_flow_from_assets = cfc + cfsh\n",
    "    net_captial_spending = increase + depreciation\n",
    "    change_in_nwc = ocf - net_captial_spending - cash_flow_from_assets\n",
    "\n",
    "    print(f'the cash flow from assets is: {cash_flow_from_assets}')\n",
    "    print(f'the net captial speading is: {net_captial_spending}')\n",
    "    print(f'The Addition to the NWC is: {change_in_nwc}')\n",
    "\n",
    "addition_to_nwc(increase)\n"
   ]
  },
  {
   "cell_type": "code",
   "execution_count": null,
   "metadata": {},
   "outputs": [],
   "source": []
  }
 ],
 "metadata": {
  "interpreter": {
   "hash": "b3ba2566441a7c06988d0923437866b63cedc61552a5af99d1f4fb67d367b25f"
  },
  "kernelspec": {
   "display_name": "Python 3.8.8 ('base')",
   "language": "python",
   "name": "python3"
  },
  "language_info": {
   "codemirror_mode": {
    "name": "ipython",
    "version": 3
   },
   "file_extension": ".py",
   "mimetype": "text/x-python",
   "name": "python",
   "nbconvert_exporter": "python",
   "pygments_lexer": "ipython3",
   "version": "3.8.8"
  },
  "orig_nbformat": 4
 },
 "nbformat": 4,
 "nbformat_minor": 2
}
