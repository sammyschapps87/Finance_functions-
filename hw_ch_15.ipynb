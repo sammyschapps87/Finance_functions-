{
 "cells": [
  {
   "cell_type": "markdown",
   "metadata": {},
   "source": [
    "## Question 1\n",
    "Hassinah, Incorporated, is proposing a rights offering. Presently there are 400,000 shares outstanding at $44 each. There will be 100,000 new shares offered at $35 each.\n",
    "\n",
    " \n",
    "\n",
    "a.\tWhat is the new market value of the company? (Do not round intermediate calculations.)\n",
    "b.\tHow many rights are associated with one of the new shares? (Do not round intermediate calculations.)\n",
    "c.\tWhat is the ex-rights price? (Do not round intermediate calculations and round your answer to 2 decimal places, e.g., 32.16.)\n",
    "d.\tWhat is the value of a right? (Do not round intermediate calculations and round your answer to 2 decimal places, e.g., 32.16.)"
   ]
  },
  {
   "cell_type": "code",
   "execution_count": 8,
   "metadata": {},
   "outputs": [
    {
     "name": "stdout",
     "output_type": "stream",
     "text": [
      "The total market value is 21100000\n",
      "The number of rights needed is 4.0\n",
      "The Ex Rights Price is 42.2\n",
      "The value of a right is 1.8\n"
     ]
    }
   ],
   "source": [
    "shares = 400000\n",
    "shares_outstanding = 44\n",
    "new_shares = 100000\n",
    "new_shares_price = 35\n",
    " \n",
    "## A\n",
    "total = (shares * shares_outstanding) + (new_shares * new_shares_price)\n",
    "print(f\"The total market value is {total}\")\n",
    "\n",
    "## B \n",
    "num_of_rights_needed = shares / new_shares\n",
    "print(f\"The number of rights needed is {num_of_rights_needed}\")\n",
    "\n",
    "## C\n",
    "ex_rights_price = total / (shares + new_shares)\n",
    "print(f\"The Ex Rights Price is {ex_rights_price}\")\n",
    "\n",
    "## D\n",
    "val_of_right = shares_outstanding - ex_rights_price\n",
    "print(f\"The value of a right is {round(val_of_right, 2)}\")\n"
   ]
  },
  {
   "cell_type": "markdown",
   "metadata": {},
   "source": [
    "## Question 2\n",
    "The Woods Company and the Koepka Company have both announced IPOs at $73 per share. One of these is undervalued by $11, and the other is overvalued by $3, but you have no way of knowing which is which. You plan to buy 900 shares of each issue. If an issue is underpriced, it will be rationed, and only half your order will be filled.\n",
    "\n",
    " \n",
    "\n",
    "a.\t\n",
    "If you could get 900 shares in Woods and 900 shares in Koepka, what would your profit be? (Do not round intermediate calculations.)\n",
    "\n",
    "b.\tWhat profit do you actually expect? (Do not round intermediate calculations.)"
   ]
  },
  {
   "cell_type": "code",
   "execution_count": 11,
   "metadata": {},
   "outputs": [
    {
     "name": "stdout",
     "output_type": "stream",
     "text": [
      "The profit is 7200\n",
      "The expected value is 2250.0\n"
     ]
    }
   ],
   "source": [
    "ipo = 73\n",
    "under_val = 11\n",
    "ovr_val = 3\n",
    "shares = 900\n",
    "\n",
    "## A \n",
    "profit = (shares * under_val) - (shares * ovr_val)\n",
    "print(f\"The profit is {profit}\")\n",
    "\n",
    "## B\n",
    "expected_profit = (shares * .5 * under_val) - (shares * ovr_val)\n",
    "print(f\"The expected value is {expected_profit}\")"
   ]
  },
  {
   "cell_type": "markdown",
   "metadata": {},
   "source": [
    "## Question 3\n",
    "The Meadows Corporation needs to raise $80 million to finance its expansion into new markets. The company will sell new shares of equity via a general cash offering to raise the needed funds. If the offer price is $35 per share and the company’s underwriters charge a spread of 5 percent, how many shares need to be sold? (Do not round intermediate calculations and enter your answer in shares, not millions, rounded to the nearest whole number, e.g., 1,234,567.)"
   ]
  },
  {
   "cell_type": "code",
   "execution_count": 18,
   "metadata": {},
   "outputs": [
    {
     "name": "stdout",
     "output_type": "stream",
     "text": [
      "the num of shares offered is 2171428.57\n"
     ]
    }
   ],
   "source": [
    "amm_req = 80000000\n",
    "offer_price = 35\n",
    "spread = .05\n",
    "\n",
    "num_of_shares = amm_req / offer_price * (1 - spread)\n",
    "print(f\"the num of shares offered is {round(num_of_shares, 2)}\")\n"
   ]
  },
  {
   "cell_type": "markdown",
   "metadata": {},
   "source": [
    "## Quesiton 4\n",
    "\n",
    "Damron, Incorporated, has 175,000 shares of stock outstanding. Each share is worth $73, so the company’s market value of equity is $12,775,000. Suppose the firm issues 32,000 new shares at the following prices: $73, $67, and $61. What will be the ex-rights price and the effect of each of these alternative offering prices on the existing price per share? (Leave no cells blank; if there is no effect select \"No change\" from the dropdown and enter \"0\". Round your answers to 2 decimal places, e.g., 32.16.)"
   ]
  },
  {
   "cell_type": "code",
   "execution_count": null,
   "metadata": {},
   "outputs": [],
   "source": []
  }
 ],
 "metadata": {
  "interpreter": {
   "hash": "b3ba2566441a7c06988d0923437866b63cedc61552a5af99d1f4fb67d367b25f"
  },
  "kernelspec": {
   "display_name": "Python 3.8.8 ('base')",
   "language": "python",
   "name": "python3"
  },
  "language_info": {
   "codemirror_mode": {
    "name": "ipython",
    "version": 3
   },
   "file_extension": ".py",
   "mimetype": "text/x-python",
   "name": "python",
   "nbconvert_exporter": "python",
   "pygments_lexer": "ipython3",
   "version": "3.8.8"
  },
  "orig_nbformat": 4
 },
 "nbformat": 4,
 "nbformat_minor": 2
}
